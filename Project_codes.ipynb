{
  "nbformat": 4,
  "nbformat_minor": 0,
  "metadata": {
    "colab": {
      "name": "MATH1042_Proyek4_Kelompok7.ipynb",
      "provenance": []
    },
    "kernelspec": {
      "name": "python3",
      "display_name": "Python 3"
    },
    "language_info": {
      "name": "python"
    }
  },
  "cells": [
    {
      "cell_type": "code",
      "execution_count": 3,
      "metadata": {
        "id": "_vFnQF0cWJXG"
      },
      "outputs": [],
      "source": [
        "import pandas as pd\n",
        "import numpy as np\n",
        "import matplotlib.pyplot as plt\n",
        "import math"
      ]
    },
    {
      "cell_type": "code",
      "source": [
        "df = pd.read_csv(\"Start-ups.csv\")\n",
        "df"
      ],
      "metadata": {
        "colab": {
          "base_uri": "https://localhost:8080/",
          "height": 1000
        },
        "id": "2eR0yklVWTGe",
        "outputId": "9c41a987-18c5-479a-a87d-f01edb71e870"
      },
      "execution_count": 4,
      "outputs": [
        {
          "output_type": "execute_result",
          "data": {
            "text/plain": [
              "    R&D Spend  Administration  Marketing Spend       State     Profit\n",
              "0    73994.56       122782.75        303319.26     Florida  110352.25\n",
              "1   165349.20       136897.80        471784.10    New York  192261.83\n",
              "2    55493.95       103057.49        214634.81     Florida   96778.92\n",
              "3    72107.60       127864.55        353183.81    New York  105008.31\n",
              "4   119943.24       156547.42        256512.92     Florida  132602.65\n",
              "5    91749.16       114175.79        294919.57     Florida  124266.90\n",
              "6   131876.90        99814.71        362861.36    New York  156991.12\n",
              "7    91992.39       135495.07        252664.93  California  134307.35\n",
              "8    64664.71       139553.16        137962.62  California  107404.34\n",
              "9   130298.13       145530.06        323876.68     Florida  155752.60\n",
              "10    1000.23       124153.04          1903.93    New York   64926.08\n",
              "11   27892.92        84710.77        164470.71     Florida   77798.83\n",
              "12   38558.51        82982.09        174999.30  California   81005.76\n",
              "13   44069.95        51283.14        197029.42  California   89949.14\n",
              "14   15505.73       127382.30         35534.17    New York   69758.98\n",
              "15   93863.75       127320.38        249839.44     Florida  141585.52\n",
              "16   23640.93        96189.63        148001.11  California   71498.49\n",
              "17   76253.86       113867.30        298664.47  California  118474.03\n",
              "18   28663.76       127056.21        201126.82     Florida   90708.19\n",
              "19   78389.47       153773.43        299737.29    New York  111313.02\n",
              "20  144372.41       118671.85        383199.62    New York  182901.99\n",
              "21  120542.52       148718.95        311613.29    New York  152211.77\n",
              "22   61994.48       115641.28         91131.24     Florida   99937.59\n",
              "23   61136.38       152701.92         88218.23    New York   97483.56\n",
              "24   77044.01        99281.34        140574.81    New York  108552.04\n",
              "25  162597.70       151377.59        443898.53  California  191792.06\n",
              "26  114523.61       122616.84        261776.23    New York  129917.04\n",
              "27   78013.11       121597.55        264346.06  California  126992.93\n",
              "28   46426.07       157693.92        210797.67  California   96712.80\n",
              "29  123334.88       108679.17        304981.62  California  149759.96\n",
              "30   65605.48       153032.06        107138.38    New York  101004.64\n",
              "31   63408.86       129219.61         46085.25  California   97427.84\n",
              "32   46014.02        85047.44        205517.64    New York   96479.51\n",
              "33  100671.96        91790.61        249744.55  California  144259.40\n",
              "34  153441.51       101145.55        407934.54     Florida  191050.39\n",
              "35   22177.74       154806.14         28334.72  California   65200.33\n",
              "36  101913.08       110594.11        229160.95     Florida  146121.95\n",
              "37    1315.46       115816.21        297114.46     Florida   49490.75\n",
              "38   20229.59        65947.93        185265.10    New York   81229.06\n",
              "39   28754.33       118546.05        172795.67  California   78239.91\n",
              "40   66051.52       182645.56        118148.20     Florida  103282.38\n",
              "41   94657.16       145077.58        282574.31    New York  125370.37\n",
              "42   75328.87       144135.98        134050.07     Florida  105733.54\n",
              "43   67532.53       105751.03        304768.73     Florida  108733.99\n",
              "44  142107.34        91391.77        366168.42     Florida  166187.94\n",
              "45  134615.46       147198.87        127716.82  California  156122.51"
            ],
            "text/html": [
              "\n",
              "  <div id=\"df-aa4e36b3-d9a8-46ea-921f-714093f9f02c\">\n",
              "    <div class=\"colab-df-container\">\n",
              "      <div>\n",
              "<style scoped>\n",
              "    .dataframe tbody tr th:only-of-type {\n",
              "        vertical-align: middle;\n",
              "    }\n",
              "\n",
              "    .dataframe tbody tr th {\n",
              "        vertical-align: top;\n",
              "    }\n",
              "\n",
              "    .dataframe thead th {\n",
              "        text-align: right;\n",
              "    }\n",
              "</style>\n",
              "<table border=\"1\" class=\"dataframe\">\n",
              "  <thead>\n",
              "    <tr style=\"text-align: right;\">\n",
              "      <th></th>\n",
              "      <th>R&amp;D Spend</th>\n",
              "      <th>Administration</th>\n",
              "      <th>Marketing Spend</th>\n",
              "      <th>State</th>\n",
              "      <th>Profit</th>\n",
              "    </tr>\n",
              "  </thead>\n",
              "  <tbody>\n",
              "    <tr>\n",
              "      <th>0</th>\n",
              "      <td>73994.56</td>\n",
              "      <td>122782.75</td>\n",
              "      <td>303319.26</td>\n",
              "      <td>Florida</td>\n",
              "      <td>110352.25</td>\n",
              "    </tr>\n",
              "    <tr>\n",
              "      <th>1</th>\n",
              "      <td>165349.20</td>\n",
              "      <td>136897.80</td>\n",
              "      <td>471784.10</td>\n",
              "      <td>New York</td>\n",
              "      <td>192261.83</td>\n",
              "    </tr>\n",
              "    <tr>\n",
              "      <th>2</th>\n",
              "      <td>55493.95</td>\n",
              "      <td>103057.49</td>\n",
              "      <td>214634.81</td>\n",
              "      <td>Florida</td>\n",
              "      <td>96778.92</td>\n",
              "    </tr>\n",
              "    <tr>\n",
              "      <th>3</th>\n",
              "      <td>72107.60</td>\n",
              "      <td>127864.55</td>\n",
              "      <td>353183.81</td>\n",
              "      <td>New York</td>\n",
              "      <td>105008.31</td>\n",
              "    </tr>\n",
              "    <tr>\n",
              "      <th>4</th>\n",
              "      <td>119943.24</td>\n",
              "      <td>156547.42</td>\n",
              "      <td>256512.92</td>\n",
              "      <td>Florida</td>\n",
              "      <td>132602.65</td>\n",
              "    </tr>\n",
              "    <tr>\n",
              "      <th>5</th>\n",
              "      <td>91749.16</td>\n",
              "      <td>114175.79</td>\n",
              "      <td>294919.57</td>\n",
              "      <td>Florida</td>\n",
              "      <td>124266.90</td>\n",
              "    </tr>\n",
              "    <tr>\n",
              "      <th>6</th>\n",
              "      <td>131876.90</td>\n",
              "      <td>99814.71</td>\n",
              "      <td>362861.36</td>\n",
              "      <td>New York</td>\n",
              "      <td>156991.12</td>\n",
              "    </tr>\n",
              "    <tr>\n",
              "      <th>7</th>\n",
              "      <td>91992.39</td>\n",
              "      <td>135495.07</td>\n",
              "      <td>252664.93</td>\n",
              "      <td>California</td>\n",
              "      <td>134307.35</td>\n",
              "    </tr>\n",
              "    <tr>\n",
              "      <th>8</th>\n",
              "      <td>64664.71</td>\n",
              "      <td>139553.16</td>\n",
              "      <td>137962.62</td>\n",
              "      <td>California</td>\n",
              "      <td>107404.34</td>\n",
              "    </tr>\n",
              "    <tr>\n",
              "      <th>9</th>\n",
              "      <td>130298.13</td>\n",
              "      <td>145530.06</td>\n",
              "      <td>323876.68</td>\n",
              "      <td>Florida</td>\n",
              "      <td>155752.60</td>\n",
              "    </tr>\n",
              "    <tr>\n",
              "      <th>10</th>\n",
              "      <td>1000.23</td>\n",
              "      <td>124153.04</td>\n",
              "      <td>1903.93</td>\n",
              "      <td>New York</td>\n",
              "      <td>64926.08</td>\n",
              "    </tr>\n",
              "    <tr>\n",
              "      <th>11</th>\n",
              "      <td>27892.92</td>\n",
              "      <td>84710.77</td>\n",
              "      <td>164470.71</td>\n",
              "      <td>Florida</td>\n",
              "      <td>77798.83</td>\n",
              "    </tr>\n",
              "    <tr>\n",
              "      <th>12</th>\n",
              "      <td>38558.51</td>\n",
              "      <td>82982.09</td>\n",
              "      <td>174999.30</td>\n",
              "      <td>California</td>\n",
              "      <td>81005.76</td>\n",
              "    </tr>\n",
              "    <tr>\n",
              "      <th>13</th>\n",
              "      <td>44069.95</td>\n",
              "      <td>51283.14</td>\n",
              "      <td>197029.42</td>\n",
              "      <td>California</td>\n",
              "      <td>89949.14</td>\n",
              "    </tr>\n",
              "    <tr>\n",
              "      <th>14</th>\n",
              "      <td>15505.73</td>\n",
              "      <td>127382.30</td>\n",
              "      <td>35534.17</td>\n",
              "      <td>New York</td>\n",
              "      <td>69758.98</td>\n",
              "    </tr>\n",
              "    <tr>\n",
              "      <th>15</th>\n",
              "      <td>93863.75</td>\n",
              "      <td>127320.38</td>\n",
              "      <td>249839.44</td>\n",
              "      <td>Florida</td>\n",
              "      <td>141585.52</td>\n",
              "    </tr>\n",
              "    <tr>\n",
              "      <th>16</th>\n",
              "      <td>23640.93</td>\n",
              "      <td>96189.63</td>\n",
              "      <td>148001.11</td>\n",
              "      <td>California</td>\n",
              "      <td>71498.49</td>\n",
              "    </tr>\n",
              "    <tr>\n",
              "      <th>17</th>\n",
              "      <td>76253.86</td>\n",
              "      <td>113867.30</td>\n",
              "      <td>298664.47</td>\n",
              "      <td>California</td>\n",
              "      <td>118474.03</td>\n",
              "    </tr>\n",
              "    <tr>\n",
              "      <th>18</th>\n",
              "      <td>28663.76</td>\n",
              "      <td>127056.21</td>\n",
              "      <td>201126.82</td>\n",
              "      <td>Florida</td>\n",
              "      <td>90708.19</td>\n",
              "    </tr>\n",
              "    <tr>\n",
              "      <th>19</th>\n",
              "      <td>78389.47</td>\n",
              "      <td>153773.43</td>\n",
              "      <td>299737.29</td>\n",
              "      <td>New York</td>\n",
              "      <td>111313.02</td>\n",
              "    </tr>\n",
              "    <tr>\n",
              "      <th>20</th>\n",
              "      <td>144372.41</td>\n",
              "      <td>118671.85</td>\n",
              "      <td>383199.62</td>\n",
              "      <td>New York</td>\n",
              "      <td>182901.99</td>\n",
              "    </tr>\n",
              "    <tr>\n",
              "      <th>21</th>\n",
              "      <td>120542.52</td>\n",
              "      <td>148718.95</td>\n",
              "      <td>311613.29</td>\n",
              "      <td>New York</td>\n",
              "      <td>152211.77</td>\n",
              "    </tr>\n",
              "    <tr>\n",
              "      <th>22</th>\n",
              "      <td>61994.48</td>\n",
              "      <td>115641.28</td>\n",
              "      <td>91131.24</td>\n",
              "      <td>Florida</td>\n",
              "      <td>99937.59</td>\n",
              "    </tr>\n",
              "    <tr>\n",
              "      <th>23</th>\n",
              "      <td>61136.38</td>\n",
              "      <td>152701.92</td>\n",
              "      <td>88218.23</td>\n",
              "      <td>New York</td>\n",
              "      <td>97483.56</td>\n",
              "    </tr>\n",
              "    <tr>\n",
              "      <th>24</th>\n",
              "      <td>77044.01</td>\n",
              "      <td>99281.34</td>\n",
              "      <td>140574.81</td>\n",
              "      <td>New York</td>\n",
              "      <td>108552.04</td>\n",
              "    </tr>\n",
              "    <tr>\n",
              "      <th>25</th>\n",
              "      <td>162597.70</td>\n",
              "      <td>151377.59</td>\n",
              "      <td>443898.53</td>\n",
              "      <td>California</td>\n",
              "      <td>191792.06</td>\n",
              "    </tr>\n",
              "    <tr>\n",
              "      <th>26</th>\n",
              "      <td>114523.61</td>\n",
              "      <td>122616.84</td>\n",
              "      <td>261776.23</td>\n",
              "      <td>New York</td>\n",
              "      <td>129917.04</td>\n",
              "    </tr>\n",
              "    <tr>\n",
              "      <th>27</th>\n",
              "      <td>78013.11</td>\n",
              "      <td>121597.55</td>\n",
              "      <td>264346.06</td>\n",
              "      <td>California</td>\n",
              "      <td>126992.93</td>\n",
              "    </tr>\n",
              "    <tr>\n",
              "      <th>28</th>\n",
              "      <td>46426.07</td>\n",
              "      <td>157693.92</td>\n",
              "      <td>210797.67</td>\n",
              "      <td>California</td>\n",
              "      <td>96712.80</td>\n",
              "    </tr>\n",
              "    <tr>\n",
              "      <th>29</th>\n",
              "      <td>123334.88</td>\n",
              "      <td>108679.17</td>\n",
              "      <td>304981.62</td>\n",
              "      <td>California</td>\n",
              "      <td>149759.96</td>\n",
              "    </tr>\n",
              "    <tr>\n",
              "      <th>30</th>\n",
              "      <td>65605.48</td>\n",
              "      <td>153032.06</td>\n",
              "      <td>107138.38</td>\n",
              "      <td>New York</td>\n",
              "      <td>101004.64</td>\n",
              "    </tr>\n",
              "    <tr>\n",
              "      <th>31</th>\n",
              "      <td>63408.86</td>\n",
              "      <td>129219.61</td>\n",
              "      <td>46085.25</td>\n",
              "      <td>California</td>\n",
              "      <td>97427.84</td>\n",
              "    </tr>\n",
              "    <tr>\n",
              "      <th>32</th>\n",
              "      <td>46014.02</td>\n",
              "      <td>85047.44</td>\n",
              "      <td>205517.64</td>\n",
              "      <td>New York</td>\n",
              "      <td>96479.51</td>\n",
              "    </tr>\n",
              "    <tr>\n",
              "      <th>33</th>\n",
              "      <td>100671.96</td>\n",
              "      <td>91790.61</td>\n",
              "      <td>249744.55</td>\n",
              "      <td>California</td>\n",
              "      <td>144259.40</td>\n",
              "    </tr>\n",
              "    <tr>\n",
              "      <th>34</th>\n",
              "      <td>153441.51</td>\n",
              "      <td>101145.55</td>\n",
              "      <td>407934.54</td>\n",
              "      <td>Florida</td>\n",
              "      <td>191050.39</td>\n",
              "    </tr>\n",
              "    <tr>\n",
              "      <th>35</th>\n",
              "      <td>22177.74</td>\n",
              "      <td>154806.14</td>\n",
              "      <td>28334.72</td>\n",
              "      <td>California</td>\n",
              "      <td>65200.33</td>\n",
              "    </tr>\n",
              "    <tr>\n",
              "      <th>36</th>\n",
              "      <td>101913.08</td>\n",
              "      <td>110594.11</td>\n",
              "      <td>229160.95</td>\n",
              "      <td>Florida</td>\n",
              "      <td>146121.95</td>\n",
              "    </tr>\n",
              "    <tr>\n",
              "      <th>37</th>\n",
              "      <td>1315.46</td>\n",
              "      <td>115816.21</td>\n",
              "      <td>297114.46</td>\n",
              "      <td>Florida</td>\n",
              "      <td>49490.75</td>\n",
              "    </tr>\n",
              "    <tr>\n",
              "      <th>38</th>\n",
              "      <td>20229.59</td>\n",
              "      <td>65947.93</td>\n",
              "      <td>185265.10</td>\n",
              "      <td>New York</td>\n",
              "      <td>81229.06</td>\n",
              "    </tr>\n",
              "    <tr>\n",
              "      <th>39</th>\n",
              "      <td>28754.33</td>\n",
              "      <td>118546.05</td>\n",
              "      <td>172795.67</td>\n",
              "      <td>California</td>\n",
              "      <td>78239.91</td>\n",
              "    </tr>\n",
              "    <tr>\n",
              "      <th>40</th>\n",
              "      <td>66051.52</td>\n",
              "      <td>182645.56</td>\n",
              "      <td>118148.20</td>\n",
              "      <td>Florida</td>\n",
              "      <td>103282.38</td>\n",
              "    </tr>\n",
              "    <tr>\n",
              "      <th>41</th>\n",
              "      <td>94657.16</td>\n",
              "      <td>145077.58</td>\n",
              "      <td>282574.31</td>\n",
              "      <td>New York</td>\n",
              "      <td>125370.37</td>\n",
              "    </tr>\n",
              "    <tr>\n",
              "      <th>42</th>\n",
              "      <td>75328.87</td>\n",
              "      <td>144135.98</td>\n",
              "      <td>134050.07</td>\n",
              "      <td>Florida</td>\n",
              "      <td>105733.54</td>\n",
              "    </tr>\n",
              "    <tr>\n",
              "      <th>43</th>\n",
              "      <td>67532.53</td>\n",
              "      <td>105751.03</td>\n",
              "      <td>304768.73</td>\n",
              "      <td>Florida</td>\n",
              "      <td>108733.99</td>\n",
              "    </tr>\n",
              "    <tr>\n",
              "      <th>44</th>\n",
              "      <td>142107.34</td>\n",
              "      <td>91391.77</td>\n",
              "      <td>366168.42</td>\n",
              "      <td>Florida</td>\n",
              "      <td>166187.94</td>\n",
              "    </tr>\n",
              "    <tr>\n",
              "      <th>45</th>\n",
              "      <td>134615.46</td>\n",
              "      <td>147198.87</td>\n",
              "      <td>127716.82</td>\n",
              "      <td>California</td>\n",
              "      <td>156122.51</td>\n",
              "    </tr>\n",
              "  </tbody>\n",
              "</table>\n",
              "</div>\n",
              "      <button class=\"colab-df-convert\" onclick=\"convertToInteractive('df-aa4e36b3-d9a8-46ea-921f-714093f9f02c')\"\n",
              "              title=\"Convert this dataframe to an interactive table.\"\n",
              "              style=\"display:none;\">\n",
              "        \n",
              "  <svg xmlns=\"http://www.w3.org/2000/svg\" height=\"24px\"viewBox=\"0 0 24 24\"\n",
              "       width=\"24px\">\n",
              "    <path d=\"M0 0h24v24H0V0z\" fill=\"none\"/>\n",
              "    <path d=\"M18.56 5.44l.94 2.06.94-2.06 2.06-.94-2.06-.94-.94-2.06-.94 2.06-2.06.94zm-11 1L8.5 8.5l.94-2.06 2.06-.94-2.06-.94L8.5 2.5l-.94 2.06-2.06.94zm10 10l.94 2.06.94-2.06 2.06-.94-2.06-.94-.94-2.06-.94 2.06-2.06.94z\"/><path d=\"M17.41 7.96l-1.37-1.37c-.4-.4-.92-.59-1.43-.59-.52 0-1.04.2-1.43.59L10.3 9.45l-7.72 7.72c-.78.78-.78 2.05 0 2.83L4 21.41c.39.39.9.59 1.41.59.51 0 1.02-.2 1.41-.59l7.78-7.78 2.81-2.81c.8-.78.8-2.07 0-2.86zM5.41 20L4 18.59l7.72-7.72 1.47 1.35L5.41 20z\"/>\n",
              "  </svg>\n",
              "      </button>\n",
              "      \n",
              "  <style>\n",
              "    .colab-df-container {\n",
              "      display:flex;\n",
              "      flex-wrap:wrap;\n",
              "      gap: 12px;\n",
              "    }\n",
              "\n",
              "    .colab-df-convert {\n",
              "      background-color: #E8F0FE;\n",
              "      border: none;\n",
              "      border-radius: 50%;\n",
              "      cursor: pointer;\n",
              "      display: none;\n",
              "      fill: #1967D2;\n",
              "      height: 32px;\n",
              "      padding: 0 0 0 0;\n",
              "      width: 32px;\n",
              "    }\n",
              "\n",
              "    .colab-df-convert:hover {\n",
              "      background-color: #E2EBFA;\n",
              "      box-shadow: 0px 1px 2px rgba(60, 64, 67, 0.3), 0px 1px 3px 1px rgba(60, 64, 67, 0.15);\n",
              "      fill: #174EA6;\n",
              "    }\n",
              "\n",
              "    [theme=dark] .colab-df-convert {\n",
              "      background-color: #3B4455;\n",
              "      fill: #D2E3FC;\n",
              "    }\n",
              "\n",
              "    [theme=dark] .colab-df-convert:hover {\n",
              "      background-color: #434B5C;\n",
              "      box-shadow: 0px 1px 3px 1px rgba(0, 0, 0, 0.15);\n",
              "      filter: drop-shadow(0px 1px 2px rgba(0, 0, 0, 0.3));\n",
              "      fill: #FFFFFF;\n",
              "    }\n",
              "  </style>\n",
              "\n",
              "      <script>\n",
              "        const buttonEl =\n",
              "          document.querySelector('#df-aa4e36b3-d9a8-46ea-921f-714093f9f02c button.colab-df-convert');\n",
              "        buttonEl.style.display =\n",
              "          google.colab.kernel.accessAllowed ? 'block' : 'none';\n",
              "\n",
              "        async function convertToInteractive(key) {\n",
              "          const element = document.querySelector('#df-aa4e36b3-d9a8-46ea-921f-714093f9f02c');\n",
              "          const dataTable =\n",
              "            await google.colab.kernel.invokeFunction('convertToInteractive',\n",
              "                                                     [key], {});\n",
              "          if (!dataTable) return;\n",
              "\n",
              "          const docLinkHtml = 'Like what you see? Visit the ' +\n",
              "            '<a target=\"_blank\" href=https://colab.research.google.com/notebooks/data_table.ipynb>data table notebook</a>'\n",
              "            + ' to learn more about interactive tables.';\n",
              "          element.innerHTML = '';\n",
              "          dataTable['output_type'] = 'display_data';\n",
              "          await google.colab.output.renderOutput(dataTable, element);\n",
              "          const docLink = document.createElement('div');\n",
              "          docLink.innerHTML = docLinkHtml;\n",
              "          element.appendChild(docLink);\n",
              "        }\n",
              "      </script>\n",
              "    </div>\n",
              "  </div>\n",
              "  "
            ]
          },
          "metadata": {},
          "execution_count": 4
        }
      ]
    },
    {
      "cell_type": "code",
      "source": [
        "#Membuat Grafik masing-masing biaya pengeluaran terhadap besarnya profit\n",
        "\n",
        "fig, ax = plt.subplots(3,figsize=(10, 20))\n",
        "\n",
        "ax[0].scatter(df['R&D Spend'], df['Profit'])\n",
        "ax[0].set_title(\"R&D Spend Graph.\")\n",
        "ax[0].set_ylabel(\"R&D Spend\")\n",
        "ax[0].set_xlabel(\"Profit\")\n",
        "\n",
        "ax[1].scatter(df['Marketing Spend'], df['Profit'])\n",
        "ax[1].set_title(\"Marketing Spend Graph.\")\n",
        "ax[1].set_ylabel(\"Marketing Spend\")\n",
        "ax[1].set_xlabel(\"Profit\")\n",
        "\n",
        "ax[2].scatter(df['Administration'], df['Profit'])\n",
        "ax[2].set_title(\"Administration Graph.\")\n",
        "ax[2].set_ylabel(\"Administration\")\n",
        "ax[2].set_xlabel(\"Profit\")\n",
        "plt.show()"
      ],
      "metadata": {
        "colab": {
          "base_uri": "https://localhost:8080/",
          "height": 1000
        },
        "id": "RwO63VtpWXbq",
        "outputId": "7babfdb7-6e87-4c1e-ca84-6da6bf2e1f17"
      },
      "execution_count": 5,
      "outputs": [
        {
          "output_type": "display_data",
          "data": {
            "text/plain": [
              "<Figure size 720x1440 with 3 Axes>"
            ],
            "image/png": "[encoded data removed]"
          },
          "metadata": {
            "needs_background": "light"
          }
        }
      ]
    },
    {
      "cell_type": "code",
      "source": [
        "df.corr()"
      ],
      "metadata": {
        "colab": {
          "base_uri": "https://localhost:8080/",
          "height": 175
        },
        "id": "R-KZcZzjXWow",
        "outputId": "5e23fa68-e7a8-4ebe-b179-8cd0c25f64d7"
      },
      "execution_count": 6,
      "outputs": [
        {
          "output_type": "execute_result",
          "data": {
            "text/plain": [
              "                 R&D Spend  Administration  Marketing Spend    Profit\n",
              "R&D Spend         1.000000        0.196068         0.708253  0.977703\n",
              "Administration    0.196068        1.000000        -0.085831  0.135076\n",
              "Marketing Spend   0.708253       -0.085831         1.000000  0.732277\n",
              "Profit            0.977703        0.135076         0.732277  1.000000"
            ],
            "text/html": [
              "\n",
              "  <div id=\"df-c8079fb8-7e50-428a-8b07-d25d3c78cbe4\">\n",
              "    <div class=\"colab-df-container\">\n",
              "      <div>\n",
              "<style scoped>\n",
              "    .dataframe tbody tr th:only-of-type {\n",
              "        vertical-align: middle;\n",
              "    }\n",
              "\n",
              "    .dataframe tbody tr th {\n",
              "        vertical-align: top;\n",
              "    }\n",
              "\n",
              "    .dataframe thead th {\n",
              "        text-align: right;\n",
              "    }\n",
              "</style>\n",
              "<table border=\"1\" class=\"dataframe\">\n",
              "  <thead>\n",
              "    <tr style=\"text-align: right;\">\n",
              "      <th></th>\n",
              "      <th>R&amp;D Spend</th>\n",
              "      <th>Administration</th>\n",
              "      <th>Marketing Spend</th>\n",
              "      <th>Profit</th>\n",
              "    </tr>\n",
              "  </thead>\n",
              "  <tbody>\n",
              "    <tr>\n",
              "      <th>R&amp;D Spend</th>\n",
              "      <td>1.000000</td>\n",
              "      <td>0.196068</td>\n",
              "      <td>0.708253</td>\n",
              "      <td>0.977703</td>\n",
              "    </tr>\n",
              "    <tr>\n",
              "      <th>Administration</th>\n",
              "      <td>0.196068</td>\n",
              "      <td>1.000000</td>\n",
              "      <td>-0.085831</td>\n",
              "      <td>0.135076</td>\n",
              "    </tr>\n",
              "    <tr>\n",
              "      <th>Marketing Spend</th>\n",
              "      <td>0.708253</td>\n",
              "      <td>-0.085831</td>\n",
              "      <td>1.000000</td>\n",
              "      <td>0.732277</td>\n",
              "    </tr>\n",
              "    <tr>\n",
              "      <th>Profit</th>\n",
              "      <td>0.977703</td>\n",
              "      <td>0.135076</td>\n",
              "      <td>0.732277</td>\n",
              "      <td>1.000000</td>\n",
              "    </tr>\n",
              "  </tbody>\n",
              "</table>\n",
              "</div>\n",
              "      <button class=\"colab-df-convert\" onclick=\"convertToInteractive('df-c8079fb8-7e50-428a-8b07-d25d3c78cbe4')\"\n",
              "              title=\"Convert this dataframe to an interactive table.\"\n",
              "              style=\"display:none;\">\n",
              "        \n",
              "  <svg xmlns=\"http://www.w3.org/2000/svg\" height=\"24px\"viewBox=\"0 0 24 24\"\n",
              "       width=\"24px\">\n",
              "    <path d=\"M0 0h24v24H0V0z\" fill=\"none\"/>\n",
              "    <path d=\"M18.56 5.44l.94 2.06.94-2.06 2.06-.94-2.06-.94-.94-2.06-.94 2.06-2.06.94zm-11 1L8.5 8.5l.94-2.06 2.06-.94-2.06-.94L8.5 2.5l-.94 2.06-2.06.94zm10 10l.94 2.06.94-2.06 2.06-.94-2.06-.94-.94-2.06-.94 2.06-2.06.94z\"/><path d=\"M17.41 7.96l-1.37-1.37c-.4-.4-.92-.59-1.43-.59-.52 0-1.04.2-1.43.59L10.3 9.45l-7.72 7.72c-.78.78-.78 2.05 0 2.83L4 21.41c.39.39.9.59 1.41.59.51 0 1.02-.2 1.41-.59l7.78-7.78 2.81-2.81c.8-.78.8-2.07 0-2.86zM5.41 20L4 18.59l7.72-7.72 1.47 1.35L5.41 20z\"/>\n",
              "  </svg>\n",
              "      </button>\n",
              "      \n",
              "  <style>\n",
              "    .colab-df-container {\n",
              "      display:flex;\n",
              "      flex-wrap:wrap;\n",
              "      gap: 12px;\n",
              "    }\n",
              "\n",
              "    .colab-df-convert {\n",
              "      background-color: #E8F0FE;\n",
              "      border: none;\n",
              "      border-radius: 50%;\n",
              "      cursor: pointer;\n",
              "      display: none;\n",
              "      fill: #1967D2;\n",
              "      height: 32px;\n",
              "      padding: 0 0 0 0;\n",
              "      width: 32px;\n",
              "    }\n",
              "\n",
              "    .colab-df-convert:hover {\n",
              "      background-color: #E2EBFA;\n",
              "      box-shadow: 0px 1px 2px rgba(60, 64, 67, 0.3), 0px 1px 3px 1px rgba(60, 64, 67, 0.15);\n",
              "      fill: #174EA6;\n",
              "    }\n",
              "\n",
              "    [theme=dark] .colab-df-convert {\n",
              "      background-color: #3B4455;\n",
              "      fill: #D2E3FC;\n",
              "    }\n",
              "\n",
              "    [theme=dark] .colab-df-convert:hover {\n",
              "      background-color: #434B5C;\n",
              "      box-shadow: 0px 1px 3px 1px rgba(0, 0, 0, 0.15);\n",
              "      filter: drop-shadow(0px 1px 2px rgba(0, 0, 0, 0.3));\n",
              "      fill: #FFFFFF;\n",
              "    }\n",
              "  </style>\n",
              "\n",
              "      <script>\n",
              "        const buttonEl =\n",
              "          document.querySelector('#df-c8079fb8-7e50-428a-8b07-d25d3c78cbe4 button.colab-df-convert');\n",
              "        buttonEl.style.display =\n",
              "          google.colab.kernel.accessAllowed ? 'block' : 'none';\n",
              "\n",
              "        async function convertToInteractive(key) {\n",
              "          const element = document.querySelector('#df-c8079fb8-7e50-428a-8b07-d25d3c78cbe4');\n",
              "          const dataTable =\n",
              "            await google.colab.kernel.invokeFunction('convertToInteractive',\n",
              "                                                     [key], {});\n",
              "          if (!dataTable) return;\n",
              "\n",
              "          const docLinkHtml = 'Like what you see? Visit the ' +\n",
              "            '<a target=\"_blank\" href=https://colab.research.google.com/notebooks/data_table.ipynb>data table notebook</a>'\n",
              "            + ' to learn more about interactive tables.';\n",
              "          element.innerHTML = '';\n",
              "          dataTable['output_type'] = 'display_data';\n",
              "          await google.colab.output.renderOutput(dataTable, element);\n",
              "          const docLink = document.createElement('div');\n",
              "          docLink.innerHTML = docLinkHtml;\n",
              "          element.appendChild(docLink);\n",
              "        }\n",
              "      </script>\n",
              "    </div>\n",
              "  </div>\n",
              "  "
            ]
          },
          "metadata": {},
          "execution_count": 6
        }
      ]
    },
    {
      "cell_type": "code",
      "source": [
        "profit = df['Profit'].values.tolist()\n",
        "profit = np.array(profit)   "
      ],
      "metadata": {
        "id": "FM_NpIbHrvah"
      },
      "execution_count": 7,
      "outputs": []
    },
    {
      "cell_type": "markdown",
      "source": [
        "###R&D vs Profit"
      ],
      "metadata": {
        "id": "wlhIPQv73yKG"
      }
    },
    {
      "cell_type": "code",
      "source": [
        "# Regresi R&D vs Profit\n",
        "n =len(profit)    #Mencari panjang list profit\n",
        "avg_list = [np.mean(profit)]*n    #Membuat list yang berisi rata-rata             \n",
        "cost = df[\"R&D Spend\"].values.tolist()    #Memasukkan kolom \"R&D Spend\" ke dalam list\n",
        "cost = np.array(cost)   #Mengubah list tersebut menjadi array\n",
        "\n",
        "plt.figure()            #Untuk membuat figur plot berukuran 15x10\n",
        "plt.xlabel(\"Cost of R&D Spend\")          #Untuk memberi label pada sumbu X\n",
        "plt.ylabel(\"Profit\")                    #Untuk memberi label pada sumbu Y\n",
        "plt.scatter(cost, profit, label=\"Data\") #Untuk membuat scatter plot cost (R&D) dibandingkan profit\n",
        "m, b = np.polyfit(cost,profit,1)        #Untuk mendapatkan konstanta garis regresi\n",
        "plt.plot(cost, m*cost + b, 'r', label=\"linear regression\")         #Plot garis regresi\n",
        "print(\"Rumus regresi linear =\",f'{m}*x1 + {b}')            #Menampilkan konstanta garis regresi\n",
        "\n",
        "#Believeability rate\n",
        "error = []                              #List error\n",
        "model = m*cost + b                      #Model garis regresi\n",
        "for i in range(len(model)):             #Mencari list error\n",
        "    diff = profit[i]-model[i]           #Mencari selisih garis regresi dan nilai\n",
        "    diff = diff**2                      #Mencari pangkat selisih\n",
        "    error.append(diff)                  #Menambahkan list error\n",
        " \n",
        "s = math.sqrt(1/(n-2)*sum(error))       #Estimatsi sigma\n",
        "print(\"list error:\", error)\n",
        "\n",
        "print(\"batas atas :\" ,f'{m} * x1 + {b} + 2 * {s}')\n",
        "print(\"batas bawah:\" ,f'{m} * x1 + {b} - 2 * {s}')\n",
        "\n",
        "plt.plot(cost, m*cost + b + 2*s, 'b', label=\"Upper bound\")   #menampilkan batas atas\n",
        "plt.plot(cost, m*cost + b - 2*s, 'b', label=\"Lower bound\")   #menampilkan batas bawah\n",
        "plt.plot(cost, avg_list, 'y', label=\"Average\") \n",
        "\n",
        "plt.legend(loc=\"upper left\")\n",
        "plt.show()  "
      ],
      "metadata": {
        "colab": {
          "base_uri": "https://localhost:8080/",
          "height": 372
        },
        "id": "x5V03KcisQml",
        "outputId": "29849459-810a-4d80-f3dc-5b4ad53b4047"
      },
      "execution_count": 8,
      "outputs": [
        {
          "output_type": "stream",
          "name": "stdout",
          "text": [
            "Rumus regresi linear = 0.8046215878369701*x1 + 54108.9498101553\n",
            "list error: [10852545.373595616, 26105399.567031246, 3926976.2545382185, 50693992.98271924, 324548152.70287097, 13435190.970136613, 10425346.314895527, 38184209.20920734, 1599639.4917154657, 10221052.37590782, 100246622.65046504, 1554097.8509374207, 17042029.881456513, 144823.66446017442, 10072911.839865886, 142844821.06095472, 2664933.633349233, 9057561.411088433, 183216801.62733436, 34454430.31517504, 159463414.30713502, 1235890.998791631, 16430511.58263423, 33837965.534502245, 56975073.69199137, 46970333.914261624, 266998173.00642982, 102271712.18501663, 27546038.767382786, 12865828.592424598, 34714430.209215604, 59309211.920899004, 28587054.97534902, 83678912.95139721, 181685834.16503608, 45607171.42255439, 100230851.85565715, 32224324.842113208, 117569464.13966419, 989240.1564405016, 15785116.064751858, 24027390.204784114, 80759784.75274011, 82316.58526366914, 5124081.280483501, 39701907.675761126]\n",
            "batas atas : 0.8046215878369701 * x1 + 54108.9498101553 + 2 * 7636.579992141273\n",
            "batas bawah: 0.8046215878369701 * x1 + 54108.9498101553 - 2 * 7636.579992141273\n"
          ]
        },
        {
          "output_type": "display_data",
          "data": {
            "text/plain": [
              "<Figure size 432x288 with 1 Axes>"
            ],
            "image/png": "[encoded data removed]"
          },
          "metadata": {
            "needs_background": "light"
          }
        }
      ]
    },
    {
      "cell_type": "code",
      "source": [
        "#perhitungan SSE  \n",
        "\n",
        "sum_err = []\n",
        "\n",
        "for i in range(len(profit)):\n",
        "    delta = profit[i]-model[i]\n",
        "    sum_err.append(delta**2)\n",
        "\n",
        "delta_sum = sum(sum_err)\n",
        "\n",
        "print(\"SSE of profit vs R&D data is {}\".format(delta_sum))"
      ],
      "metadata": {
        "colab": {
          "base_uri": "https://localhost:8080/"
        },
        "id": "gbnPTafv1nkM",
        "outputId": "4be06e15-8051-4a47-c32a-b6ac23f3c592"
      },
      "execution_count": 9,
      "outputs": [
        {
          "output_type": "stream",
          "name": "stdout",
          "text": [
            "SSE of profit vs R&D data is 2565963574.9603853\n"
          ]
        }
      ]
    },
    {
      "cell_type": "code",
      "source": [
        "#pencarian SSR data \n",
        "\n",
        "avg = np.mean(profit)\n",
        "ssr_list = [] \n",
        "\n",
        "for i in range(len(profit)):\n",
        "    ssr = profit[i] - avg\n",
        "    ssr_list.append(ssr**2)\n",
        "\n",
        "ssr = sum(ssr_list)\n",
        "print(\"SSR of profit vs R&D data is {}\".format(ssr))"
      ],
      "metadata": {
        "colab": {
          "base_uri": "https://localhost:8080/"
        },
        "id": "DMpanYPg3oEK",
        "outputId": "8c308052-bd33-4da0-eedc-94920136f256"
      },
      "execution_count": 10,
      "outputs": [
        {
          "output_type": "stream",
          "name": "stdout",
          "text": [
            "SSR of profit vs R&D data is 58190484852.560135\n"
          ]
        }
      ]
    },
    {
      "cell_type": "code",
      "source": [
        "#performance assessment \n",
        "\n",
        "sst = delta_sum + ssr\n",
        "#print(sst)\n",
        "\n",
        "#model perfomance \n",
        "r_square = 1 - (delta_sum/sst)\n",
        "print(\"percentage of performance for R&D vs profit is {}\".format(r_square*100))"
      ],
      "metadata": {
        "colab": {
          "base_uri": "https://localhost:8080/"
        },
        "id": "n1iGpzWm3qUI",
        "outputId": "efeb370e-b208-440c-f013-67e17fb11e22"
      },
      "execution_count": 11,
      "outputs": [
        {
          "output_type": "stream",
          "name": "stdout",
          "text": [
            "percentage of performance for R&D vs profit is 95.77663994296597\n"
          ]
        }
      ]
    },
    {
      "cell_type": "code",
      "source": [
        "# Interval Estimasi untuk prediksi profit suatu perusahaan startup yang mendedikasikan dana R&D sebesar 125.000 USD, dengan tingkat kepercayaan 95%\n",
        "result = m*125000 + b \n",
        "upper_bound = m*125000 + b + 2*s\n",
        "lower_bound = m*125000 + b - 2*s\n",
        "print(\"Result =\",result)\n",
        "print(\"Upper Bound =\", upper_bound)\n",
        "print(\"Lower Bound =\", lower_bound)"
      ],
      "metadata": {
        "colab": {
          "base_uri": "https://localhost:8080/"
        },
        "id": "a8laZB36Ejbj",
        "outputId": "0daac35e-d4f2-4cdc-f3cd-066b06910d01"
      },
      "execution_count": 62,
      "outputs": [
        {
          "output_type": "stream",
          "name": "stdout",
          "text": [
            "Result = 92378.0158667246\n",
            "Upper Bound = 132123.71713953896\n",
            "Lower Bound = 52632.31459391024\n"
          ]
        }
      ]
    },
    {
      "cell_type": "markdown",
      "source": [
        "###Administration"
      ],
      "metadata": {
        "id": "t8WtP9Ig3r6e"
      }
    },
    {
      "cell_type": "code",
      "source": [
        "# Regresi Administration\n",
        "admin = df['Administration'].values.tolist()\n",
        "admin = np.array(admin)                      \n",
        "\n",
        "plt.figure()            #Untuk membuat figur plot berukuran 15x10\n",
        "plt.xlabel(\"Cost of Administration\")          #Untuk memberi label pada sumbu X\n",
        "plt.ylabel(\"Profit\")                    #Untuk memberi label pada sumbu Y\n",
        "plt.scatter(admin, profit) #Untuk membuat scatter plot cost administrasi dibandingkan profit\n",
        "m, b = np.polyfit(admin,profit,1)        #Untuk mendapatkan konstanta garis regresi\n",
        "plt.plot(admin, m*admin + b, 'r', label=\"linear regression\")         #Plot garis regresi\n",
        "print(\"Rumus regresi linear =\",f'{m}*x1 + {b}')            #Menampilkan konstanta garis regresi\n",
        "\n",
        "#Believeability rate\n",
        "error = []                              #List error\n",
        "model = m*admin + b                      #Model garis regresi\n",
        "for i in range(len(model)):             #Mencari list error\n",
        "    diff = profit[i]-model[i]           #Mencari selisih garis regresi dan nilai\n",
        "    diff = diff**2                      #Mencari pangkat selisih\n",
        "    error.append(diff)                  #Menambahkan list error\n",
        " \n",
        "s = math.sqrt(1/(n-2)*sum(error))       #Estimatsi sigma\n",
        "print(\"list error:\", error)\n",
        "\n",
        "print(\"batas atas :\" ,f'{m} * x1 + {b} + 2 * {s}')\n",
        "print(\"batas bawah:\" ,f'{m} * x1 + {b} - 2 * {s}')\n",
        "\n",
        "plt.plot(admin, m*admin + b + 2*s, 'b', label=\"Upper bound\")   #menampilkan batas atas\n",
        "plt.plot(admin, m*admin + b - 2*s, 'b', label=\"Lower bound\")   #menampilkan batas bawah\n",
        "plt.plot(admin, avg_list, 'y', label=\"Average\") \n",
        "\n",
        "plt.legend(loc=\"upper right\")\n",
        "plt.show()  "
      ],
      "metadata": {
        "colab": {
          "base_uri": "https://localhost:8080/",
          "height": 372
        },
        "id": "v5XlP-XDwy80",
        "outputId": "c0dbaf53-493d-4861-9cc3-32c1e035753e"
      },
      "execution_count": 13,
      "outputs": [
        {
          "output_type": "stream",
          "name": "stdout",
          "text": [
            "Rumus regresi linear = 0.1811573714930351*x1 + 94972.31935952273\n",
            "list error: [47101724.52948149, 5254722540.233823, 284361556.85988796, 172334279.38637224, 85944237.94105585, 74145784.26227282, 1930427468.1064048, 218717476.1187526, 165098420.20076418, 1184491170.0298963, 2760186568.2048535, 1057515915.4145143, 840963846.9539773, 204876230.8311036, 2331883729.952991, 554516558.178481, 1672751913.9324536, 8258783.188844393, 744269242.116474, 132629536.0188422, 4413129607.128108, 917963748.3174447, 255488245.7834375, 632614945.1532631, 19411302.32133511, 4815884529.173208, 162098125.34172148, 99846421.06123646, 719684463.3397036, 1231982472.4334924, 470480614.4999391, 439051854.8827177, 193203885.21971658, 1066579908.681625, 6045810270.41567, 3342720241.025663, 968124081.2962701, 4417267832.776695, 659987044.6907922, 1459843636.0429335, 613925939.5794668, 16942917.91213524, 235624791.2661596, 29115823.00421168, 2987642116.7701726, 1189148343.2851794]\n",
            "batas atas : 0.1811573714930351 * x1 + 94972.31935952273 + 2 * 36033.05620722814\n",
            "batas bawah: 0.1811573714930351 * x1 + 94972.31935952273 - 2 * 36033.05620722814\n"
          ]
        },
        {
          "output_type": "display_data",
          "data": {
            "text/plain": [
              "<Figure size 432x288 with 1 Axes>"
            ],
            "image/png": "[encoded data removed]"
          },
          "metadata": {
            "needs_background": "light"
          }
        }
      ]
    },
    {
      "cell_type": "code",
      "source": [
        "#perhitungan SSE  \n",
        "\n",
        "sum_err = []\n",
        "\n",
        "for i in range(len(profit)):\n",
        "    delta = profit[i]-model[i]\n",
        "    sum_err.append(delta**2)\n",
        "\n",
        "delta_sum = sum(sum_err)\n",
        "\n",
        "print(\"SSE of profit vs Administration data is {}\".format(delta_sum))"
      ],
      "metadata": {
        "colab": {
          "base_uri": "https://localhost:8080/"
        },
        "id": "hvNU_9M635FL",
        "outputId": "9e945437-f028-4d58-b848-e2f1a505dfc1"
      },
      "execution_count": 14,
      "outputs": [
        {
          "output_type": "stream",
          "name": "stdout",
          "text": [
            "SSE of profit vs Administration data is 57128770143.86354\n"
          ]
        }
      ]
    },
    {
      "cell_type": "code",
      "source": [
        "#pencarian SSR data \n",
        "\n",
        "avg = np.mean(profit)\n",
        "ssr_list = [] \n",
        "\n",
        "for i in range(len(profit)):\n",
        "    ssr = profit[i] - avg\n",
        "    ssr_list.append(ssr**2)\n",
        "\n",
        "ssr = sum(ssr_list)\n",
        "print(\"SSR of profit vs Administration data is {}\".format(ssr))"
      ],
      "metadata": {
        "colab": {
          "base_uri": "https://localhost:8080/"
        },
        "id": "H9SYqYDO35l0",
        "outputId": "118770a8-11d3-4765-d8e3-93800a4f4ef0"
      },
      "execution_count": 15,
      "outputs": [
        {
          "output_type": "stream",
          "name": "stdout",
          "text": [
            "SSR of profit vs Administration data is 58190484852.560135\n"
          ]
        }
      ]
    },
    {
      "cell_type": "code",
      "source": [
        "#performance assessment \n",
        "\n",
        "sst = delta_sum + ssr\n",
        "#print(sst)\n",
        "\n",
        "#model perfomance \n",
        "r_square = 1 - (delta_sum/sst)\n",
        "print(\"percentage of performance for Administration vs profit is {}\".format(r_square*100))"
      ],
      "metadata": {
        "colab": {
          "base_uri": "https://localhost:8080/"
        },
        "id": "MYuoLi_f3_ws",
        "outputId": "a015454f-8046-412c-c64c-78e4b2072d39"
      },
      "execution_count": 16,
      "outputs": [
        {
          "output_type": "stream",
          "name": "stdout",
          "text": [
            "percentage of performance for Administration vs profit is 50.46033713482172\n"
          ]
        }
      ]
    },
    {
      "cell_type": "markdown",
      "source": [
        "###Marketing Spend"
      ],
      "metadata": {
        "id": "NMX4-vmQ4GK0"
      }
    },
    {
      "cell_type": "code",
      "source": [
        "# Regresi Marketing Spend\n",
        "market = df['Marketing Spend'].values.tolist() #Memasukkan kolom \"Marketing Spend\" ke dalam list\n",
        "market = np.array(market)                      #Mengubah list tersebut menjadi array\n",
        "\n",
        "plt.figure()\n",
        "plt.xlabel(\"Cost of Marketing\")          #Untuk memberi label pada sumbu X\n",
        "plt.ylabel(\"Profit\")                    #Untuk memberi label pada sumbu Y\n",
        "plt.scatter(market, profit) #Untuk membuat scatter plot cost administrasi dibandingkan profit\n",
        "m, b = np.polyfit(market,profit,1)        #Untuk mendapatkan konstanta garis regresi\n",
        "plt.plot(market, m*market + b, 'r', label=\"linear regression\")         #Plot garis regresi\n",
        "print(\"Rumus regresi linear =\",f'{m}*x1 + {b}')            #Menampilkan konstanta garis regresi\n",
        "\n",
        "#Believeability rate\n",
        "error = []                              #List error\n",
        "model = m*market + b                      #Model garis regresi\n",
        "for i in range(len(model)):             #Mencari list error\n",
        "    diff = profit[i]-model[i]           #Mencari selisih garis regresi dan nilai\n",
        "    diff = diff**2                      #Mencari pangkat selisih\n",
        "    error.append(diff)                  #Menambahkan list error\n",
        " \n",
        "s = math.sqrt(1/(n-2)*sum(error))       #Estimatsi sigma\n",
        "print(\"list error:\", error)\n",
        "\n",
        "print(\"batas atas :\" ,f'{m} * x1 + {b} + 2 * {s}')\n",
        "print(\"batas bawah:\" ,f'{m} * x1 + {b} - 2 * {s}')\n",
        "\n",
        "plt.plot(market, m*market + b + 2*s, 'b', label=\"Upper bound\")   #menampilkan batas atas\n",
        "plt.plot(market, m*market + b - 2*s, 'b', label=\"Lower bound\")   #menampilkan batas bawah\n",
        "plt.plot(market, avg_list, 'y', label=\"Average\") \n",
        "\n",
        "plt.legend(loc=\"upper right\")\n",
        "plt.show()  "
      ],
      "metadata": {
        "colab": {
          "base_uri": "https://localhost:8080/",
          "height": 372
        },
        "id": "Ca3WpAsi1Ki_",
        "outputId": "b33c4c38-e73b-496b-c424-6cf53565c72e"
      },
      "execution_count": 17,
      "outputs": [
        {
          "output_type": "stream",
          "name": "stdout",
          "text": [
            "Rumus regresi linear = 0.2365138910721844*x1 + 63045.78840138968\n",
            "list error: [596959605.8802425, 310906761.72493047, 290054364.0306718, 1728094462.0656404, 78996415.64173122, 72785868.69125465, 65992542.678599134, 132314312.75394355, 137557138.02082682, 259386414.6596018, 2044859.1193107336, 583056649.1526226, 548955236.5404406, 387965631.30814725, 2859931.5478665577, 378272683.7731052, 704988355.251204, 231345752.60295445, 396284078.308827, 511881627.4716825, 854052019.5499128, 239169623.31917313, 235254165.1006361, 184224557.93975097, 150267299.14777285, 564447459.4457066, 24577171.630046513, 2032410.5137910594, 262102033.08758986, 212628364.74728787, 159242605.03749272, 551416055.6731664, 230251948.8382745, 490425664.0153446, 993662725.6373636, 20675329.777867954, 833847264.2643762, 7026921572.817784, 657127491.9297522, 659177622.7823653, 151115417.2929921, 20323578.50458678, 120627342.14924432, 696634611.0385385, 273513177.1128697, 3952626783.6003737]\n",
            "batas atas : 0.2365138910721844 * x1 + 63045.78840138968 + 2 * 24765.742002988387\n",
            "batas bawah: 0.2365138910721844 * x1 + 63045.78840138968 - 2 * 24765.742002988387\n"
          ]
        },
        {
          "output_type": "display_data",
          "data": {
            "text/plain": [
              "<Figure size 432x288 with 1 Axes>"
            ],
            "image/png": "[encoded data removed]"
          },
          "metadata": {
            "needs_background": "light"
          }
        }
      ]
    },
    {
      "cell_type": "code",
      "source": [
        "#perhitungan SSE  \n",
        "\n",
        "sum_err = []\n",
        "\n",
        "for i in range(len(profit)):\n",
        "    delta = profit[i]-model[i]\n",
        "    sum_err.append(delta**2)\n",
        "\n",
        "delta_sum = sum(sum_err)\n",
        "\n",
        "print(\"SSE of profit vs marketing data is {}\".format(delta_sum))"
      ],
      "metadata": {
        "colab": {
          "base_uri": "https://localhost:8080/"
        },
        "id": "FT3h3fY75Qwj",
        "outputId": "2e09924e-fec8-44d4-9f89-57fd01426ec5"
      },
      "execution_count": 18,
      "outputs": [
        {
          "output_type": "stream",
          "name": "stdout",
          "text": [
            "SSE of profit vs marketing data is 26987046986.17766\n"
          ]
        }
      ]
    },
    {
      "cell_type": "code",
      "source": [
        "#pencarian SSR data \n",
        "\n",
        "avg = np.mean(profit)\n",
        "ssr_list = [] \n",
        "\n",
        "for i in range(len(profit)):\n",
        "    ssr = profit[i] - avg\n",
        "    ssr_list.append(ssr**2)\n",
        "\n",
        "ssr = sum(ssr_list)\n",
        "print(\"SSR of profit vs marketing data is {}\".format(ssr))"
      ],
      "metadata": {
        "colab": {
          "base_uri": "https://localhost:8080/"
        },
        "id": "VYylLToB5Tth",
        "outputId": "ecd03295-cae6-4b04-ffc2-c58e06105760"
      },
      "execution_count": 19,
      "outputs": [
        {
          "output_type": "stream",
          "name": "stdout",
          "text": [
            "SSR of profit vs marketing data is 58190484852.560135\n"
          ]
        }
      ]
    },
    {
      "cell_type": "code",
      "source": [
        "#performance assessment \n",
        "\n",
        "sst = delta_sum + ssr\n",
        "#print(sst)\n",
        "\n",
        "#model perfomance \n",
        "r_square = 1 - (delta_sum/sst)\n",
        "print(\"percentage of performance for marketing vs profit is {}\".format(r_square*100))"
      ],
      "metadata": {
        "colab": {
          "base_uri": "https://localhost:8080/"
        },
        "id": "j-I7vEdD5VgZ",
        "outputId": "f414dd01-1584-492e-f89d-0f1f1c0585c3"
      },
      "execution_count": 20,
      "outputs": [
        {
          "output_type": "stream",
          "name": "stdout",
          "text": [
            "percentage of performance for marketing vs profit is 68.31670699584154\n"
          ]
        }
      ]
    },
    {
      "cell_type": "markdown",
      "source": [
        "###State"
      ],
      "metadata": {
        "id": "_q4-nzjbFZym"
      }
    },
    {
      "cell_type": "code",
      "source": [
        "# Pemecahan data terhadap masing masing negara\n",
        "\n",
        "cali = df[(df['State'] == 'California')]   \n",
        "flo = df[(df['State'] == 'Florida')]         \n",
        "ny = df[(df['State'] == 'New York')] "
      ],
      "metadata": {
        "id": "6u7IBpZEFbhK"
      },
      "execution_count": 21,
      "outputs": []
    },
    {
      "cell_type": "markdown",
      "source": [
        "###CALIFORNIA"
      ],
      "metadata": {
        "id": "kXKPEHMhF285"
      }
    },
    {
      "cell_type": "code",
      "source": [
        "profit = cali['Profit'].values.tolist()\n",
        "profit = np.array(profit)   "
      ],
      "metadata": {
        "id": "4oNW2FksF--Z"
      },
      "execution_count": 22,
      "outputs": []
    },
    {
      "cell_type": "markdown",
      "source": [
        "###R&D vs Profit"
      ],
      "metadata": {
        "id": "5JZP6RRDF--a"
      }
    },
    {
      "cell_type": "code",
      "source": [
        "# Regresi R&D vs Profit\n",
        "n =len(profit)    #Mencari panjang list profit\n",
        "avg_list = [np.mean(profit)]*n    #Membuat list yang berisi rata-rata             \n",
        "cost = cali[\"R&D Spend\"].values.tolist()    #Memasukkan kolom \"R&D Spend\" ke dalam list\n",
        "cost = np.array(cost)   #Mengubah list tersebut menjadi array\n",
        "\n",
        "plt.figure()            #Untuk membuat figur plot berukuran 15x10\n",
        "plt.xlabel(\"Cost of R&D Spend\")          #Untuk memberi label pada sumbu X\n",
        "plt.ylabel(\"Profit\")                    #Untuk memberi label pada sumbu Y\n",
        "plt.scatter(cost, profit, label=\"Data\") #Untuk membuat scatter plot cost (R&D) dibandingkan profit\n",
        "m, b = np.polyfit(cost,profit,1)        #Untuk mendapatkan konstanta garis regresi\n",
        "plt.plot(cost, m*cost + b, 'r', label=\"linear regression\")         #Plot garis regresi\n",
        "print(\"Rumus regresi linear =\",f'{m}*x1 + {b}')            #Menampilkan konstanta garis regresi\n",
        "\n",
        "#Believeability rate\n",
        "error = []                              #List error\n",
        "model = m*cost + b                      #Model garis regresi\n",
        "for i in range(len(model)):             #Mencari list error\n",
        "    diff = profit[i]-model[i]           #Mencari selisih garis regresi dan nilai\n",
        "    diff = diff**2                      #Mencari pangkat selisih\n",
        "    error.append(diff)                  #Menambahkan list error\n",
        " \n",
        "s = math.sqrt(1/(n-2)*sum(error))       #Estimatsi sigma\n",
        "print(\"list error:\", error)\n",
        "\n",
        "print(\"batas atas :\" ,f'{m} * x1 + {b} + 2 * {s}')\n",
        "print(\"batas bawah:\" ,f'{m} * x1 + {b} - 2 * {s}')\n",
        "\n",
        "plt.plot(cost, m*cost + b + 2*s, 'b', label=\"Upper bound\")   #menampilkan batas atas\n",
        "plt.plot(cost, m*cost + b - 2*s, 'b', label=\"Lower bound\")   #menampilkan batas bawah\n",
        "plt.plot(cost, avg_list, 'y', label=\"Average\") \n",
        "\n",
        "plt.legend(loc=\"upper left\")\n",
        "plt.show()  "
      ],
      "metadata": {
        "colab": {
          "base_uri": "https://localhost:8080/",
          "height": 372
        },
        "outputId": "38818814-2c82-4fe9-9eaf-8a4623af6be5",
        "id": "bjPh3qSXF--a"
      },
      "execution_count": 23,
      "outputs": [
        {
          "output_type": "stream",
          "name": "stdout",
          "text": [
            "Rumus regresi linear = 0.8403657851867833*x1 + 52362.21331134203\n",
            "list error: [21509927.509667803, 490163.66754984186, 14135388.02682425, 304757.6057147935, 533998.504997246, 4123668.3951053857, 7774632.831237412, 82286093.39522654, 28469757.664417982, 39045834.071246386, 67585001.03075233, 53230389.942941, 33631848.015207894, 2936224.7487470447, 87720645.74873562]\n",
            "batas atas : 0.8403657851867833 * x1 + 52362.21331134203 + 2 * 5842.670169065692\n",
            "batas bawah: 0.8403657851867833 * x1 + 52362.21331134203 - 2 * 5842.670169065692\n"
          ]
        },
        {
          "output_type": "display_data",
          "data": {
            "text/plain": [
              "<Figure size 432x288 with 1 Axes>"
            ],
            "image/png": "[encoded data removed]"
          },
          "metadata": {
            "needs_background": "light"
          }
        }
      ]
    },
    {
      "cell_type": "code",
      "source": [
        "#perhitungan SSE  \n",
        "\n",
        "sum_err = []\n",
        "\n",
        "for i in range(len(profit)):\n",
        "    delta = profit[i]-model[i]\n",
        "    sum_err.append(delta**2)\n",
        "\n",
        "delta_sum = sum(sum_err)\n",
        "\n",
        "print(\"SSE of profit vs R&D data is {}\".format(delta_sum))"
      ],
      "metadata": {
        "colab": {
          "base_uri": "https://localhost:8080/"
        },
        "outputId": "74936e13-4b02-4c8c-a93a-92c604551d9b",
        "id": "O8_Ws5HRF--a"
      },
      "execution_count": 24,
      "outputs": [
        {
          "output_type": "stream",
          "name": "stdout",
          "text": [
            "SSE of profit vs R&D data is 443778331.1583715\n"
          ]
        }
      ]
    },
    {
      "cell_type": "code",
      "source": [
        "#pencarian SSR data \n",
        "\n",
        "avg = np.mean(profit)\n",
        "ssr_list = [] \n",
        "\n",
        "for i in range(len(profit)):\n",
        "    ssr = profit[i] - avg\n",
        "    ssr_list.append(ssr**2)\n",
        "\n",
        "ssr = sum(ssr_list)\n",
        "print(\"SSR of profit vs R&D data is {}\".format(ssr))"
      ],
      "metadata": {
        "colab": {
          "base_uri": "https://localhost:8080/"
        },
        "outputId": "03004f91-96ea-4e1c-cb3c-c6530caac5a5",
        "id": "tOLIbh85F--a"
      },
      "execution_count": 25,
      "outputs": [
        {
          "output_type": "stream",
          "name": "stdout",
          "text": [
            "SSR of profit vs R&D data is 18372110012.280933\n"
          ]
        }
      ]
    },
    {
      "cell_type": "code",
      "source": [
        "#performance assessment \n",
        "\n",
        "sst = delta_sum + ssr\n",
        "#print(sst)\n",
        "\n",
        "#model perfomance \n",
        "r_square = 1 - (delta_sum/sst)\n",
        "print(\"percentage of performance for R&D vs profit is {}\".format(r_square*100))"
      ],
      "metadata": {
        "colab": {
          "base_uri": "https://localhost:8080/"
        },
        "outputId": "8e126ae5-b7a1-4336-8caa-12ad4097f1ba",
        "id": "uK5B_jzWF--b"
      },
      "execution_count": 26,
      "outputs": [
        {
          "output_type": "stream",
          "name": "stdout",
          "text": [
            "percentage of performance for R&D vs profit is 97.64147021358623\n"
          ]
        }
      ]
    },
    {
      "cell_type": "markdown",
      "source": [
        "###Administration"
      ],
      "metadata": {
        "id": "-v4HhD1zF--b"
      }
    },
    {
      "cell_type": "code",
      "source": [
        "# Regresi Administration\n",
        "admin = cali['Administration'].values.tolist() #Memasukkan kolom Administration ke dalam list\n",
        "admin = np.array(admin)                      #Mengubah list tersebut menjadi array\n",
        "\n",
        "plt.figure()            #Untuk membuat figur plot berukuran 15x10\n",
        "plt.xlabel(\"Cost of Administration\")          #Untuk memberi label pada sumbu X\n",
        "plt.ylabel(\"Profit\")                    #Untuk memberi label pada sumbu Y\n",
        "plt.scatter(admin, profit) #Untuk membuat scatter plot cost administrasi dibandingkan profit\n",
        "m, b = np.polyfit(admin,profit,1)        #Untuk mendapatkan konstanta garis regresi\n",
        "plt.plot(admin, m*admin + b, 'r', label=\"linear regression\")         #Plot garis regresi\n",
        "print(\"Rumus regresi linear =\",f'{m}*x1 + {b}')            #Menampilkan konstanta garis regresi\n",
        "\n",
        "#Believeability rate\n",
        "error = []                              #List error\n",
        "model = m*admin + b                      #Model garis regresi\n",
        "for i in range(len(model)):             #Mencari list error\n",
        "    diff = profit[i]-model[i]           #Mencari selisih garis regresi dan nilai\n",
        "    diff = diff**2                      #Mencari pangkat selisih\n",
        "    error.append(diff)                  #Menambahkan list error\n",
        " \n",
        "s = math.sqrt(1/(n-2)*sum(error))       #Estimatsi sigma\n",
        "print(\"list error:\", error)\n",
        "\n",
        "print(\"batas atas :\" ,f'{m} * x1 + {b} + 2 * {s}')\n",
        "print(\"batas bawah:\" ,f'{m} * x1 + {b} - 2 * {s}')\n",
        "\n",
        "plt.plot(admin, m*admin + b + 2*s, 'b', label=\"Upper bound\")   #menampilkan batas atas\n",
        "plt.plot(admin, m*admin + b - 2*s, 'b', label=\"Lower bound\")   #menampilkan batas bawah\n",
        "plt.plot(admin, avg_list, 'y', label=\"Average\") \n",
        "\n",
        "plt.legend(loc=\"upper right\")\n",
        "plt.show()  "
      ],
      "metadata": {
        "colab": {
          "base_uri": "https://localhost:8080/",
          "height": 372
        },
        "outputId": "009cec12-5e5c-4c15-d2e9-fafd8ff4e2df",
        "id": "KxURvTtaF--b"
      },
      "execution_count": 27,
      "outputs": [
        {
          "output_type": "stream",
          "name": "stdout",
          "text": [
            "Rumus regresi linear = 0.31067528415442786*x1 + 76656.29203399968\n",
            "list error: [241991892.28919134, 158953334.54939297, 459288464.9862453, 6967256.541411905, 1227909712.4803047, 41499134.44097238, 4638494276.810752, 157735628.8416179, 837239748.0886503, 1547614824.1895106, 375343781.1630843, 1527718063.3503492, 3546250565.0342298, 1242260059.5267854, 1138061506.1158364]\n",
            "batas atas : 0.31067528415442786 * x1 + 76656.29203399968 + 2 * 36318.38721470936\n",
            "batas bawah: 0.31067528415442786 * x1 + 76656.29203399968 - 2 * 36318.38721470936\n"
          ]
        },
        {
          "output_type": "display_data",
          "data": {
            "text/plain": [
              "<Figure size 432x288 with 1 Axes>"
            ],
            "image/png": "[encoded data removed]"
          },
          "metadata": {
            "needs_background": "light"
          }
        }
      ]
    },
    {
      "cell_type": "code",
      "source": [
        "#perhitungan SSE  \n",
        "\n",
        "sum_err = []\n",
        "\n",
        "for i in range(len(profit)):\n",
        "    delta = profit[i]-model[i]\n",
        "    sum_err.append(delta**2)\n",
        "\n",
        "delta_sum = sum(sum_err)\n",
        "\n",
        "print(\"SSE of profit vs Administration data is {}\".format(delta_sum))"
      ],
      "metadata": {
        "colab": {
          "base_uri": "https://localhost:8080/"
        },
        "outputId": "fdd3c0f0-0c60-4767-88b8-af7d7d6223cb",
        "id": "Y51BaEv6F--b"
      },
      "execution_count": 28,
      "outputs": [
        {
          "output_type": "stream",
          "name": "stdout",
          "text": [
            "SSE of profit vs Administration data is 17147328248.408335\n"
          ]
        }
      ]
    },
    {
      "cell_type": "code",
      "source": [
        "#pencarian SSR data \n",
        "\n",
        "avg = np.mean(profit)\n",
        "ssr_list = [] \n",
        "\n",
        "for i in range(len(profit)):\n",
        "    ssr = profit[i] - avg\n",
        "    ssr_list.append(ssr**2)\n",
        "\n",
        "ssr = sum(ssr_list)\n",
        "print(\"SSR of profit vs Administrationdata is {}\".format(ssr))"
      ],
      "metadata": {
        "colab": {
          "base_uri": "https://localhost:8080/"
        },
        "outputId": "75bda628-9a31-4fff-8a30-4fe9dc6fc1ba",
        "id": "I5QRPZA_F--b"
      },
      "execution_count": 29,
      "outputs": [
        {
          "output_type": "stream",
          "name": "stdout",
          "text": [
            "SSR of profit vs Administrationdata is 18372110012.280933\n"
          ]
        }
      ]
    },
    {
      "cell_type": "code",
      "source": [
        "#performance assessment \n",
        "\n",
        "sst = delta_sum + ssr\n",
        "#print(sst)\n",
        "\n",
        "#model perfomance \n",
        "r_square = 1 - (delta_sum/sst)\n",
        "print(\"percentage of performance for Administration vs profit is {}\".format(r_square*100))"
      ],
      "metadata": {
        "colab": {
          "base_uri": "https://localhost:8080/"
        },
        "outputId": "9ac4b6d3-21ec-4538-e3ab-c68db38de8cd",
        "id": "dKmaAGZ0F--b"
      },
      "execution_count": 30,
      "outputs": [
        {
          "output_type": "stream",
          "name": "stdout",
          "text": [
            "percentage of performance for Administration vs profit is 51.72410069506661\n"
          ]
        }
      ]
    },
    {
      "cell_type": "markdown",
      "source": [
        "###Marketing Spend"
      ],
      "metadata": {
        "id": "1phhHhcYF--c"
      }
    },
    {
      "cell_type": "code",
      "source": [
        "# Regresi Marketing Spend\n",
        "market = cali['Marketing Spend'].values.tolist() #Memasukkan kolom \"Marketing Spend\" ke dalam list\n",
        "market = np.array(market)                      #Mengubah list tersebut menjadi array\n",
        "\n",
        "plt.figure()\n",
        "plt.xlabel(\"Cost of Marketing\")          #Untuk memberi label pada sumbu X\n",
        "plt.ylabel(\"Profit\")                    #Untuk memberi label pada sumbu Y\n",
        "plt.scatter(market, profit) #Untuk membuat scatter plot cost administrasi dibandingkan profit\n",
        "m, b = np.polyfit(market,profit,1)        #Untuk mendapatkan konstanta garis regresi\n",
        "plt.plot(market, m*market + b, 'r', label=\"linear regression\")         #Plot garis regresi\n",
        "print(\"Rumus regresi linear =\",f'{m}*x1 + {b}')            #Menampilkan konstanta garis regresi\n",
        "\n",
        "#Believeability rate\n",
        "error = []                              #List error\n",
        "model = m*market + b                      #Model garis regresi\n",
        "for i in range(len(model)):             #Mencari list error\n",
        "    diff = profit[i]-model[i]           #Mencari selisih garis regresi dan nilai\n",
        "    diff = diff**2                      #Mencari pangkat selisih\n",
        "    error.append(diff)                  #Menambahkan list error\n",
        " \n",
        "s = math.sqrt(1/(n-2)*sum(error))       #Estimatsi sigma\n",
        "print(\"list error:\", error)\n",
        "\n",
        "print(\"batas atas :\" ,f'{m} * x1 + {b} + 2 * {s}')\n",
        "print(\"batas bawah:\" ,f'{m} * x1 + {b} - 2 * {s}')\n",
        "\n",
        "plt.plot(market, m*market + b + 2*s, 'b', label=\"Upper bound\")   #menampilkan batas atas\n",
        "plt.plot(market, m*market + b - 2*s, 'b', label=\"Lower bound\")   #menampilkan batas bawah\n",
        "plt.plot(market, avg_list, 'y', label=\"Average\") \n",
        "\n",
        "plt.legend(loc=\"upper right\")\n",
        "plt.show()  "
      ],
      "metadata": {
        "colab": {
          "base_uri": "https://localhost:8080/",
          "height": 372
        },
        "outputId": "6a89793d-43fd-4a76-9b9c-b86fb6632dfa",
        "id": "n573Nng3F--c"
      },
      "execution_count": 31,
      "outputs": [
        {
          "output_type": "stream",
          "name": "stdout",
          "text": [
            "Rumus regresi linear = 0.24877824387366462*x1 + 63225.15486780451\n",
            "list error: [67644991.95184578, 97162160.34805265, 663341319.4525522, 496962153.37395513, 814881030.1389037, 362991934.6624426, 328864021.12114555, 3983111.661836486, 359262797.8587917, 113678527.49956147, 517001981.2189217, 357332277.0639038, 25744326.752399016, 782491425.5647124, 3736166473.5076084]\n",
            "batas atas : 0.24877824387366462 * x1 + 63225.15486780451 + 2 * 25910.36105822212\n",
            "batas bawah: 0.24877824387366462 * x1 + 63225.15486780451 - 2 * 25910.36105822212\n"
          ]
        },
        {
          "output_type": "display_data",
          "data": {
            "text/plain": [
              "<Figure size 432x288 with 1 Axes>"
            ],
            "image/png": "[encoded data removed]"
          },
          "metadata": {
            "needs_background": "light"
          }
        }
      ]
    },
    {
      "cell_type": "code",
      "source": [
        "#perhitungan SSE  \n",
        "\n",
        "sum_err = []\n",
        "\n",
        "for i in range(len(profit)):\n",
        "    delta = profit[i]-model[i]\n",
        "    sum_err.append(delta**2)\n",
        "\n",
        "delta_sum = sum(sum_err)\n",
        "\n",
        "print(\"SSE of profit vs marketing data is {}\".format(delta_sum))"
      ],
      "metadata": {
        "colab": {
          "base_uri": "https://localhost:8080/"
        },
        "outputId": "a3ce3c4c-dc7b-41e8-e06d-e4f80cfb0e20",
        "id": "-An8n1B-F--c"
      },
      "execution_count": 32,
      "outputs": [
        {
          "output_type": "stream",
          "name": "stdout",
          "text": [
            "SSE of profit vs marketing data is 8727508532.176632\n"
          ]
        }
      ]
    },
    {
      "cell_type": "code",
      "source": [
        "#pencarian SSR data \n",
        "\n",
        "avg = np.mean(profit)\n",
        "ssr_list = [] \n",
        "\n",
        "for i in range(len(profit)):\n",
        "    ssr = profit[i] - avg\n",
        "    ssr_list.append(ssr**2)\n",
        "\n",
        "ssr = sum(ssr_list)\n",
        "print(\"SSR of profit vs marketing data is {}\".format(ssr))"
      ],
      "metadata": {
        "colab": {
          "base_uri": "https://localhost:8080/"
        },
        "outputId": "afe5d8cb-dd17-4ade-c2fb-213205acecc3",
        "id": "jW0wjnNiF--c"
      },
      "execution_count": 33,
      "outputs": [
        {
          "output_type": "stream",
          "name": "stdout",
          "text": [
            "SSR of profit vs marketing data is 18372110012.280933\n"
          ]
        }
      ]
    },
    {
      "cell_type": "code",
      "source": [
        "#performance assessment \n",
        "\n",
        "sst = delta_sum + ssr\n",
        "#print(sst)\n",
        "\n",
        "#model perfomance \n",
        "r_square = 1 - (delta_sum/sst)\n",
        "print(\"percentage of performance for marketing vs profit is {}\".format(r_square*100))"
      ],
      "metadata": {
        "colab": {
          "base_uri": "https://localhost:8080/"
        },
        "outputId": "a3259af6-d913-4d37-9ac5-6dd3d8ec62c5",
        "id": "9vfSn518F--c"
      },
      "execution_count": 34,
      "outputs": [
        {
          "output_type": "stream",
          "name": "stdout",
          "text": [
            "percentage of performance for marketing vs profit is 67.79471815125756\n"
          ]
        }
      ]
    },
    {
      "cell_type": "markdown",
      "source": [
        "###FLORIDA\n"
      ],
      "metadata": {
        "id": "wEvIPXbgGjrS"
      }
    },
    {
      "cell_type": "code",
      "source": [
        "profit = flo['Profit'].values.tolist()\n",
        "profit = np.array(profit)   "
      ],
      "metadata": {
        "id": "WffXFxBPGs9b"
      },
      "execution_count": 35,
      "outputs": []
    },
    {
      "cell_type": "markdown",
      "source": [
        "###R&D vs Profit"
      ],
      "metadata": {
        "id": "VxGhr15fGs9c"
      }
    },
    {
      "cell_type": "code",
      "source": [
        "# Regresi R&D vs Profit\n",
        "n =len(profit)    #Mencari panjang list profit\n",
        "avg_list = [np.mean(profit)]*n    #Membuat list yang berisi rata-rata             \n",
        "cost = flo[\"R&D Spend\"].values.tolist()    #Memasukkan kolom \"R&D Spend\" ke dalam list\n",
        "cost = np.array(cost)   #Mengubah list tersebut menjadi array\n",
        "\n",
        "plt.figure()            #Untuk membuat figur plot berukuran 15x10\n",
        "plt.xlabel(\"Cost of R&D Spend\")          #Untuk memberi label pada sumbu X\n",
        "plt.ylabel(\"Profit\")                    #Untuk memberi label pada sumbu Y\n",
        "plt.scatter(cost, profit, label=\"Data\") #Untuk membuat scatter plot cost (R&D) dibandingkan profit\n",
        "m, b = np.polyfit(cost,profit,1)        #Untuk mendapatkan konstanta garis regresi\n",
        "plt.plot(cost, m*cost + b, 'r', label=\"linear regression\")         #Plot garis regresi\n",
        "print(\"Rumus regresi linear =\",f'{m}*x1 + {b}')            #Menampilkan konstanta garis regresi\n",
        "\n",
        "#Believeability rate\n",
        "error = []                              #List error\n",
        "model = m*cost + b                      #Model garis regresi\n",
        "for i in range(len(model)):             #Mencari list error\n",
        "    diff = profit[i]-model[i]           #Mencari selisih garis regresi dan nilai\n",
        "    diff = diff**2                      #Mencari pangkat selisih\n",
        "    error.append(diff)                  #Menambahkan list error\n",
        " \n",
        "s = math.sqrt(1/(n-2)*sum(error))       #Estimatsi sigma\n",
        "print(\"list error:\", error)\n",
        "\n",
        "print(\"batas atas :\" ,f'{m} * x1 + {b} + 2 * {s}')\n",
        "print(\"batas bawah:\" ,f'{m} * x1 + {b} - 2 * {s}')\n",
        "\n",
        "plt.plot(cost, m*cost + b + 2*s, 'b', label=\"Upper bound\")   #menampilkan batas atas\n",
        "plt.plot(cost, m*cost + b - 2*s, 'b', label=\"Lower bound\")   #menampilkan batas bawah\n",
        "plt.plot(cost, avg_list, 'y', label=\"Average\") \n",
        "\n",
        "plt.legend(loc=\"upper left\")\n",
        "plt.show()  "
      ],
      "metadata": {
        "colab": {
          "base_uri": "https://localhost:8080/",
          "height": 372
        },
        "outputId": "dd214a4e-5069-430f-d7cd-c2c7c8a6c709",
        "id": "sk09p4hpGs9c"
      },
      "execution_count": 36,
      "outputs": [
        {
          "output_type": "stream",
          "name": "stdout",
          "text": [
            "Rumus regresi linear = 0.813355124358426*x1 + 53116.73209926963\n",
            "list error: [8692689.001241786, 2172972.881582443, 326544090.0951028, 12072021.977712749, 11174203.728025481, 3981016.518533876, 146996852.3825676, 203851055.97877085, 12979231.771656657, 172428924.32115638, 102286766.7523769, 22051648.033723656, 12657189.180043109, 74862546.65508883, 475173.8696167526, 6312783.369144032]\n",
            "batas atas : 0.813355124358426 * x1 + 53116.73209926963 + 2 * 8942.431622472492\n",
            "batas bawah: 0.813355124358426 * x1 + 53116.73209926963 - 2 * 8942.431622472492\n"
          ]
        },
        {
          "output_type": "display_data",
          "data": {
            "text/plain": [
              "<Figure size 432x288 with 1 Axes>"
            ],
            "image/png": "[encoded data removed]"
          },
          "metadata": {
            "needs_background": "light"
          }
        }
      ]
    },
    {
      "cell_type": "code",
      "source": [
        "#perhitungan SSE  \n",
        "\n",
        "sum_err = []\n",
        "\n",
        "for i in range(len(profit)):\n",
        "    delta = profit[i]-model[i]\n",
        "    sum_err.append(delta**2)\n",
        "\n",
        "delta_sum = sum(sum_err)\n",
        "\n",
        "print(\"SSE of profit vs R&D data is {}\".format(delta_sum))"
      ],
      "metadata": {
        "colab": {
          "base_uri": "https://localhost:8080/"
        },
        "outputId": "264b16f5-cd11-4e43-c6a6-ed656a2d8a02",
        "id": "BWaeEB_RGs9c"
      },
      "execution_count": 37,
      "outputs": [
        {
          "output_type": "stream",
          "name": "stdout",
          "text": [
            "SSE of profit vs R&D data is 1119539166.5163438\n"
          ]
        }
      ]
    },
    {
      "cell_type": "code",
      "source": [
        "#pencarian SSR data \n",
        "\n",
        "avg = np.mean(profit)\n",
        "ssr_list = [] \n",
        "\n",
        "for i in range(len(profit)):\n",
        "    ssr = profit[i] - avg\n",
        "    ssr_list.append(ssr**2)\n",
        "\n",
        "ssr = sum(ssr_list)\n",
        "print(\"SSR of profit vs R&D data is {}\".format(ssr))"
      ],
      "metadata": {
        "colab": {
          "base_uri": "https://localhost:8080/"
        },
        "outputId": "2ee9a50d-8b37-4452-dfbb-512a5befe4a7",
        "id": "d3ZJZKpTGs9c"
      },
      "execution_count": 38,
      "outputs": [
        {
          "output_type": "stream",
          "name": "stdout",
          "text": [
            "SSR of profit vs R&D data is 19016242865.892197\n"
          ]
        }
      ]
    },
    {
      "cell_type": "code",
      "source": [
        "#performance assessment \n",
        "\n",
        "sst = delta_sum + ssr\n",
        "#print(sst)\n",
        "\n",
        "#model perfomance \n",
        "r_square = 1 - (delta_sum/sst)\n",
        "print(\"percentage of performance for R&D vs profit is {}\".format(r_square*100))"
      ],
      "metadata": {
        "colab": {
          "base_uri": "https://localhost:8080/"
        },
        "outputId": "ee97fb4f-1a3e-41b5-c116-a8d064799138",
        "id": "XNWZrIekGs9c"
      },
      "execution_count": 39,
      "outputs": [
        {
          "output_type": "stream",
          "name": "stdout",
          "text": [
            "percentage of performance for R&D vs profit is 94.44005122465843\n"
          ]
        }
      ]
    },
    {
      "cell_type": "markdown",
      "source": [
        "###Administration"
      ],
      "metadata": {
        "id": "7IjmweOvGs9d"
      }
    },
    {
      "cell_type": "code",
      "source": [
        "# Regresi Administration\n",
        "admin = flo['Administration'].values.tolist() #Memasukkan kolom \"Administration\" ke dalam list\n",
        "admin = np.array(admin)                      #Mengubah list tersebut menjadi array\n",
        "\n",
        "plt.figure()            #Untuk membuat figur plot berukuran 15x10\n",
        "plt.xlabel(\"Cost of Administration\")          #Untuk memberi label pada sumbu X\n",
        "plt.ylabel(\"Profit\")                    #Untuk memberi label pada sumbu Y\n",
        "plt.scatter(admin, profit) #Untuk membuat scatter plot cost administrasi dibandingkan profit\n",
        "m, b = np.polyfit(admin,profit,1)        #Untuk mendapatkan konstanta garis regresi\n",
        "plt.plot(admin, m*admin + b, 'r', label=\"linear regression\")         #Plot garis regresi\n",
        "print(\"Rumus regresi linear =\",f'{m}*x1 + {b}')            #Menampilkan konstanta garis regresi\n",
        "\n",
        "#Believeability rate\n",
        "error = []                              #List error\n",
        "model = m*admin + b                      #Model garis regresi\n",
        "for i in range(len(model)):             #Mencari list error\n",
        "    diff = profit[i]-model[i]           #Mencari selisih garis regresi dan nilai\n",
        "    diff = diff**2                      #Mencari pangkat selisih\n",
        "    error.append(diff)                  #Menambahkan list error\n",
        " \n",
        "s = math.sqrt(1/(n-2)*sum(error))       #Estimatsi sigma\n",
        "print(\"list error:\", error)\n",
        "\n",
        "print(\"batas atas :\" ,f'{m} * x1 + {b} + 2 * {s}')\n",
        "print(\"batas bawah:\" ,f'{m} * x1 + {b} - 2 * {s}')\n",
        "\n",
        "plt.plot(admin, m*admin + b + 2*s, 'b', label=\"Upper bound\")   #menampilkan batas atas\n",
        "plt.plot(admin, m*admin + b - 2*s, 'b', label=\"Lower bound\")   #menampilkan batas bawah\n",
        "plt.plot(admin, avg_list, 'y', label=\"Average\") \n",
        "\n",
        "plt.legend(loc=\"upper right\")\n",
        "plt.show()  "
      ],
      "metadata": {
        "colab": {
          "base_uri": "https://localhost:8080/",
          "height": 373
        },
        "outputId": "e40316c1-86b3-47ee-ea6e-c0c4c9aa0945",
        "id": "1SJNgVvQGs9d"
      },
      "execution_count": 40,
      "outputs": [
        {
          "output_type": "stream",
          "name": "stdout",
          "text": [
            "Rumus regresi linear = -0.058704985460230535*x1 + 125922.46573224581\n",
            "list error: [69927328.39868604, 533312387.8551693, 251866367.58157802, 25473444.112920925, 1472523531.7008786, 1861982151.9931896, 535339062.3996592, 770364603.4455533, 368492407.9115332, 5050329780.853998, 712458053.4312814, 4848716642.736612, 142035882.47865123, 137532499.99328333, 120568372.7908711, 2082154101.867832]\n",
            "batas atas : -0.058704985460230535 * x1 + 125922.46573224581 + 2 * 36823.00971204951\n",
            "batas bawah: -0.058704985460230535 * x1 + 125922.46573224581 - 2 * 36823.00971204951\n"
          ]
        },
        {
          "output_type": "display_data",
          "data": {
            "text/plain": [
              "<Figure size 432x288 with 1 Axes>"
            ],
            "image/png": "[encoded data removed]"
          },
          "metadata": {
            "needs_background": "light"
          }
        }
      ]
    },
    {
      "cell_type": "code",
      "source": [
        "#perhitungan SSE  \n",
        "\n",
        "sum_err = []\n",
        "\n",
        "for i in range(len(profit)):\n",
        "    delta = profit[i]-model[i]\n",
        "    sum_err.append(delta**2)\n",
        "\n",
        "delta_sum = sum(sum_err)\n",
        "\n",
        "print(\"SSE of profit vs Administration data is {}\".format(delta_sum))"
      ],
      "metadata": {
        "colab": {
          "base_uri": "https://localhost:8080/"
        },
        "outputId": "41b24c98-43ac-4c49-e626-87df48e34b28",
        "id": "srFVbcu3Gs9d"
      },
      "execution_count": 41,
      "outputs": [
        {
          "output_type": "stream",
          "name": "stdout",
          "text": [
            "SSE of profit vs Administration data is 18983076619.551697\n"
          ]
        }
      ]
    },
    {
      "cell_type": "code",
      "source": [
        "#pencarian SSR data \n",
        "\n",
        "avg = np.mean(profit)\n",
        "ssr_list = [] \n",
        "\n",
        "for i in range(len(profit)):\n",
        "    ssr = profit[i] - avg\n",
        "    ssr_list.append(ssr**2)\n",
        "\n",
        "ssr = sum(ssr_list)\n",
        "print(\"SSR of profit vs Administration data is {}\".format(ssr))"
      ],
      "metadata": {
        "colab": {
          "base_uri": "https://localhost:8080/"
        },
        "outputId": "9ebc2baa-b6c8-42ba-9197-4c2ecbb0e981",
        "id": "pm5PF9haGs9d"
      },
      "execution_count": 42,
      "outputs": [
        {
          "output_type": "stream",
          "name": "stdout",
          "text": [
            "SSR of profit vs Administration data is 19016242865.892197\n"
          ]
        }
      ]
    },
    {
      "cell_type": "code",
      "source": [
        "#performance assessment \n",
        "\n",
        "sst = delta_sum + ssr\n",
        "#print(sst)\n",
        "\n",
        "#model perfomance \n",
        "r_square = 1 - (delta_sum/sst)\n",
        "print(\"percentage of performance for Administration vs profit is {}\".format(r_square*100))"
      ],
      "metadata": {
        "colab": {
          "base_uri": "https://localhost:8080/"
        },
        "outputId": "88fa95c8-e3b7-4cbc-aab2-c35e8160a6e2",
        "id": "CYsRNUsmGs9d"
      },
      "execution_count": 43,
      "outputs": [
        {
          "output_type": "stream",
          "name": "stdout",
          "text": [
            "percentage of performance for Administration vs profit is 50.04364057934407\n"
          ]
        }
      ]
    },
    {
      "cell_type": "code",
      "source": [
        "print(\"percentage of performance for R&D vs profit is 94.44005122465843\")\n",
        "print(\"percentage of performance for Administration vs profit is 50.04364057934407\")\n",
        "print(\"percentage of performance for marketing vs profit is 59.675402554577396\")"
      ],
      "metadata": {
        "colab": {
          "base_uri": "https://localhost:8080/"
        },
        "id": "26irjlUHwBK2",
        "outputId": "45310755-adf1-40a3-8184-ca08d9079fab"
      },
      "execution_count": 44,
      "outputs": [
        {
          "output_type": "stream",
          "name": "stdout",
          "text": [
            "percentage of performance for R&D vs profit is 94.44005122465843\n",
            "percentage of performance for Administration vs profit is 50.04364057934407\n",
            "percentage of performance for marketing vs profit is 59.675402554577396\n"
          ]
        }
      ]
    },
    {
      "cell_type": "markdown",
      "source": [
        "###Marketing Spend"
      ],
      "metadata": {
        "id": "UTgZdqeWGs9e"
      }
    },
    {
      "cell_type": "code",
      "source": [
        "# Regresi Marketing Spend\n",
        "market = flo['Marketing Spend'].values.tolist() #Memasukkan kolom \"Marketing Spend\" ke dalam list\n",
        "market = np.array(market)                      #Mengubah list tersebut menjadi array\n",
        "\n",
        "plt.figure()\n",
        "plt.xlabel(\"Cost of Marketing\")          #Untuk memberi label pada sumbu X\n",
        "plt.ylabel(\"Profit\")                    #Untuk memberi label pada sumbu Y\n",
        "plt.scatter(market, profit) #Untuk membuat scatter plot cost administrasi dibandingkan profit\n",
        "m, b = np.polyfit(market,profit,1)        #Untuk mendapatkan konstanta garis regresi\n",
        "plt.plot(market, m*market + b, 'r', label=\"linear regression\")         #Plot garis regresi\n",
        "print(\"Rumus regresi linear =\",f'{m}*x1 + {b}')            #Menampilkan konstanta garis regresi\n",
        "\n",
        "#Believeability rate\n",
        "error = []                              #List error\n",
        "model = m*market + b                      #Model garis regresi\n",
        "for i in range(len(model)):             #Mencari list error\n",
        "    diff = profit[i]-model[i]           #Mencari selisih garis regresi dan nilai\n",
        "    diff = diff**2                      #Mencari pangkat selisih\n",
        "    error.append(diff)                  #Menambahkan list error\n",
        " \n",
        "s = math.sqrt(1/(n-2)*sum(error))       #Estimatsi sigma\n",
        "print(\"list error:\", error)\n",
        "\n",
        "print(\"batas atas :\" ,f'{m} * x1 + {b} + 2 * {s}')\n",
        "print(\"batas bawah:\" ,f'{m} * x1 + {b} - 2 * {s}')\n",
        "\n",
        "plt.plot(market, m*market + b + 2*s, 'b', label=\"Upper bound\")   #menampilkan batas atas\n",
        "plt.plot(market, m*market + b - 2*s, 'b', label=\"Lower bound\")   #menampilkan batas bawah\n",
        "plt.plot(market, avg_list, 'y', label=\"Average\") \n",
        "\n",
        "plt.legend(loc=\"upper right\")\n",
        "plt.show()  "
      ],
      "metadata": {
        "colab": {
          "base_uri": "https://localhost:8080/",
          "height": 376
        },
        "outputId": "f46e8f3b-dcc0-481a-fdf0-33844363b5ff",
        "id": "6rPmrvQdGs9e"
      },
      "execution_count": 45,
      "outputs": [
        {
          "output_type": "stream",
          "name": "stdout",
          "text": [
            "Rumus regresi linear = 0.22541029749435035*x1 + 63024.749110378296\n",
            "list error: [442840834.2113979, 213941098.41710737, 138232863.63310018, 27413152.629936595, 388985372.55342096, 497259261.2891287, 494812814.9964197, 311614831.89621454, 268007053.41229376, 1301260958.8911006, 988597035.7862784, 6481321970.873118, 185662697.58925834, 156063174.1742152, 528483509.636786, 425393034.1843126]\n",
            "batas atas : 0.22541029749435035 * x1 + 63024.749110378296 + 2 * 30296.027160780017\n",
            "batas bawah: 0.22541029749435035 * x1 + 63024.749110378296 - 2 * 30296.027160780017\n"
          ]
        },
        {
          "output_type": "display_data",
          "data": {
            "text/plain": [
              "<Figure size 432x288 with 1 Axes>"
            ],
            "image/png": "[encoded data removed]"
          },
          "metadata": {
            "needs_background": "light"
          }
        }
      ]
    },
    {
      "cell_type": "code",
      "source": [
        "#perhitungan SSE  \n",
        "\n",
        "sum_err = []\n",
        "\n",
        "for i in range(len(profit)):\n",
        "    delta = profit[i]-model[i]\n",
        "    sum_err.append(delta**2)\n",
        "\n",
        "delta_sum = sum(sum_err)\n",
        "\n",
        "print(\"SSE of profit vs marketing data is {}\".format(delta_sum))"
      ],
      "metadata": {
        "colab": {
          "base_uri": "https://localhost:8080/"
        },
        "outputId": "818ae711-6a01-4c21-9f71-e6bc003c278f",
        "id": "iMNB-eF7Gs9e"
      },
      "execution_count": 46,
      "outputs": [
        {
          "output_type": "stream",
          "name": "stdout",
          "text": [
            "SSE of profit vs marketing data is 12849889664.17409\n"
          ]
        }
      ]
    },
    {
      "cell_type": "code",
      "source": [
        "#pencarian SSR data \n",
        "\n",
        "avg = np.mean(profit)\n",
        "ssr_list = [] \n",
        "\n",
        "for i in range(len(profit)):\n",
        "    ssr = profit[i] - avg\n",
        "    ssr_list.append(ssr**2)\n",
        "\n",
        "ssr = sum(ssr_list)\n",
        "print(\"SSR of profit vs marketing data is {}\".format(ssr))"
      ],
      "metadata": {
        "colab": {
          "base_uri": "https://localhost:8080/"
        },
        "outputId": "580ca9f1-3f1e-4ab2-979f-b04598de0223",
        "id": "DhesNYBeGs9e"
      },
      "execution_count": 47,
      "outputs": [
        {
          "output_type": "stream",
          "name": "stdout",
          "text": [
            "SSR of profit vs marketing data is 19016242865.892197\n"
          ]
        }
      ]
    },
    {
      "cell_type": "code",
      "source": [
        "#performance assessment \n",
        "\n",
        "sst = delta_sum + ssr\n",
        "#print(sst)\n",
        "\n",
        "#model perfomance \n",
        "r_square = 1 - (delta_sum/sst)\n",
        "print(\"percentage of performance for marketing vs profit is {}\".format(r_square*100))"
      ],
      "metadata": {
        "colab": {
          "base_uri": "https://localhost:8080/"
        },
        "outputId": "416d31ac-7ef5-4e6e-bd35-5f051e85adaf",
        "id": "VtxBuYrwGs9f"
      },
      "execution_count": 48,
      "outputs": [
        {
          "output_type": "stream",
          "name": "stdout",
          "text": [
            "percentage of performance for marketing vs profit is 59.675402554577396\n"
          ]
        }
      ]
    },
    {
      "cell_type": "markdown",
      "source": [
        "###NEW YORK"
      ],
      "metadata": {
        "id": "QkxPeh1RHokX"
      }
    },
    {
      "cell_type": "code",
      "source": [
        "profit = ny['Profit'].values.tolist()\n",
        "profit = np.array(profit)   "
      ],
      "metadata": {
        "id": "pqhaSHw3Hvgm"
      },
      "execution_count": 49,
      "outputs": []
    },
    {
      "cell_type": "markdown",
      "source": [
        "###R&D vs Profit"
      ],
      "metadata": {
        "id": "lLe5KW1IHvgn"
      }
    },
    {
      "cell_type": "code",
      "source": [
        "# Regresi R&D vs Profit\n",
        "n =len(profit)    #Mencari panjang list profit\n",
        "avg_list = [np.mean(profit)]*n    #Membuat list yang berisi rata-rata             \n",
        "cost = ny[\"R&D Spend\"].values.tolist()    #Memasukkan kolom \"R&D Spend\" ke dalam list\n",
        "cost = np.array(cost)   #Mengubah list tersebut menjadi array\n",
        "\n",
        "plt.figure()            #Untuk membuat figur plot berukuran 15x10\n",
        "plt.xlabel(\"Cost of R&D Spend\")          #Untuk memberi label pada sumbu X\n",
        "plt.ylabel(\"Profit\")                    #Untuk memberi label pada sumbu Y\n",
        "plt.scatter(cost, profit, label=\"Data\") #Untuk membuat scatter plot cost (R&D) dibandingkan profit\n",
        "m, b = np.polyfit(cost,profit,1)        #Untuk mendapatkan konstanta garis regresi\n",
        "plt.plot(cost, m*cost + b, 'r', label=\"linear regression\")         #Plot garis regresi\n",
        "print(\"Rumus regresi linear =\",f'{m}*x1 + {b}')            #Menampilkan konstanta garis regresi\n",
        "\n",
        "#Believeability rate\n",
        "error = []                              #List error\n",
        "model = m*cost + b                      #Model garis regresi\n",
        "for i in range(len(model)):             #Mencari list error\n",
        "    diff = profit[i]-model[i]           #Mencari selisih garis regresi dan nilai\n",
        "    diff = diff**2                      #Mencari pangkat selisih\n",
        "    error.append(diff)                  #Menambahkan list error\n",
        " \n",
        "s = math.sqrt(1/(n-2)*sum(error))       #Estimatsi sigma\n",
        "print(\"list error:\", error)\n",
        "\n",
        "print(\"batas atas :\" ,f'{m} * x1 + {b} + 2 * {s}')\n",
        "print(\"batas bawah:\" ,f'{m} * x1 + {b} - 2 * {s}')\n",
        "\n",
        "plt.plot(cost, m*cost + b + 2*s, 'b', label=\"Upper bound\")   #menampilkan batas atas\n",
        "plt.plot(cost, m*cost + b - 2*s, 'b', label=\"Lower bound\")   #menampilkan batas bawah\n",
        "plt.plot(cost, avg_list, 'y', label=\"Average\") \n",
        "\n",
        "plt.legend(loc=\"upper left\")\n",
        "plt.show()  "
      ],
      "metadata": {
        "colab": {
          "base_uri": "https://localhost:8080/",
          "height": 372
        },
        "outputId": "10b04361-ee69-477e-c53a-42cdd64e0568",
        "id": "_QvAxuNIHvgn"
      },
      "execution_count": 50,
      "outputs": [
        {
          "output_type": "stream",
          "name": "stdout",
          "text": [
            "Rumus regresi linear = 0.7728067740825835*x1 + 56105.661582674235\n",
            "list error: [70110253.3057149, 46547779.68531459, 1060700.699593543, 64761192.3376119, 2790186.8374159136, 28864347.393689763, 231780893.17127472, 8702691.139458187, 34441759.289059624, 50321351.67423462, 215891395.23671907, 33656020.85292395, 23173653.029353086, 90056953.68274911, 15108660.522523217]\n",
            "batas atas : 0.7728067740825835 * x1 + 56105.661582674235 + 2 * 8399.944316929159\n",
            "batas bawah: 0.7728067740825835 * x1 + 56105.661582674235 - 2 * 8399.944316929159\n"
          ]
        },
        {
          "output_type": "display_data",
          "data": {
            "text/plain": [
              "<Figure size 432x288 with 1 Axes>"
            ],
            "image/png": "[encoded data removed]"
          },
          "metadata": {
            "needs_background": "light"
          }
        }
      ]
    },
    {
      "cell_type": "code",
      "source": [
        "#perhitungan SSE  \n",
        "\n",
        "sum_err = []\n",
        "\n",
        "for i in range(len(profit)):\n",
        "    delta = profit[i]-model[i]\n",
        "    sum_err.append(delta**2)\n",
        "\n",
        "delta_sum = sum(sum_err)\n",
        "\n",
        "print(\"SSE of profit vs R&D  data is {}\".format(delta_sum))"
      ],
      "metadata": {
        "colab": {
          "base_uri": "https://localhost:8080/"
        },
        "outputId": "3fde15e5-a8b4-4b67-dca2-29f5b8ca749c",
        "id": "Hyxbq2RfHvgn"
      },
      "execution_count": 51,
      "outputs": [
        {
          "output_type": "stream",
          "name": "stdout",
          "text": [
            "SSE of profit vs R&D  data is 917267838.8576362\n"
          ]
        }
      ]
    },
    {
      "cell_type": "code",
      "source": [
        "#pencarian SSR data \n",
        "\n",
        "avg = np.mean(profit)\n",
        "ssr_list = [] \n",
        "\n",
        "for i in range(len(profit)):\n",
        "    ssr = profit[i] - avg\n",
        "    ssr_list.append(ssr**2)\n",
        "\n",
        "ssr = sum(ssr_list)\n",
        "print(\"SSR of profit vs R&D data is {}\".format(ssr))"
      ],
      "metadata": {
        "colab": {
          "base_uri": "https://localhost:8080/"
        },
        "outputId": "7a6ff28c-15f2-45ce-ea51-884e3ff5838b",
        "id": "265NcbJGHvgn"
      },
      "execution_count": 52,
      "outputs": [
        {
          "output_type": "stream",
          "name": "stdout",
          "text": [
            "SSR of profit vs R&D data is 20584028570.075768\n"
          ]
        }
      ]
    },
    {
      "cell_type": "code",
      "source": [
        "#performance assessment \n",
        "\n",
        "sst = delta_sum + ssr\n",
        "#print(sst)\n",
        "\n",
        "#model perfomance \n",
        "r_square = 1 - (delta_sum/sst)\n",
        "print(\"percentage of performance for R&D  vs profit is {}\".format(r_square*100))"
      ],
      "metadata": {
        "colab": {
          "base_uri": "https://localhost:8080/"
        },
        "outputId": "4deacc67-71f5-4148-d459-0c7955bb21c2",
        "id": "t1O2fNdCHvgn"
      },
      "execution_count": 53,
      "outputs": [
        {
          "output_type": "stream",
          "name": "stdout",
          "text": [
            "percentage of performance for R&D  vs profit is 95.73389519677275\n"
          ]
        }
      ]
    },
    {
      "cell_type": "markdown",
      "source": [
        "###Administration"
      ],
      "metadata": {
        "id": "uAdznmkMHvgn"
      }
    },
    {
      "cell_type": "code",
      "source": [
        "# Regresi Administration\n",
        "admin = ny['Administration'].values.tolist() #Memasukkan kolom \"Administration\" ke dalam list\n",
        "admin = np.array(admin)                      #Mengubah list tersebut menjadi array\n",
        "\n",
        "plt.figure()            #Untuk membuat figur plot berukuran 15x10\n",
        "plt.xlabel(\"Cost of Administration\")          #Untuk memberi label pada sumbu X\n",
        "plt.ylabel(\"Profit\")                    #Untuk memberi label pada sumbu Y\n",
        "plt.scatter(admin, profit) #Untuk membuat scatter plot cost administrasi dibandingkan profit\n",
        "m, b = np.polyfit(admin,profit,1)        #Untuk mendapatkan konstanta garis regresi\n",
        "plt.plot(admin, m*admin + b, 'r', label=\"linear regression\")         #Plot garis regresi\n",
        "print(\"Rumus regresi linear =\",f'{m}*x1 + {b}')            #Menampilkan konstanta garis regresi\n",
        "\n",
        "#Believeability rate\n",
        "error = []                              #List error\n",
        "model = m*admin + b                      #Model garis regresi\n",
        "for i in range(len(model)):             #Mencari list error\n",
        "    diff = profit[i]-model[i]           #Mencari selisih garis regresi dan nilai\n",
        "    diff = diff**2                      #Mencari pangkat selisih\n",
        "    error.append(diff)                  #Menambahkan list error\n",
        " \n",
        "s = math.sqrt(1/(n-2)*sum(error))       #Estimatsi sigma\n",
        "print(\"list error:\", error)\n",
        "\n",
        "print(\"batas atas :\" ,f'{m} * x1 + {b} + 2 * {s}')\n",
        "print(\"batas bawah:\" ,f'{m} * x1 + {b} - 2 * {s}')\n",
        "\n",
        "plt.plot(admin, m*admin + b + 2*s, 'b', label=\"Upper bound\")   #menampilkan batas atas\n",
        "plt.plot(admin, m*admin + b - 2*s, 'b', label=\"Lower bound\")   #menampilkan batas bawah\n",
        "plt.plot(admin, avg_list, 'y', label=\"Average\") \n",
        "\n",
        "plt.legend(loc=\"upper right\")\n",
        "plt.show()  "
      ],
      "metadata": {
        "colab": {
          "base_uri": "https://localhost:8080/",
          "height": 372
        },
        "outputId": "74c2408e-07a0-49c5-9340-14b0d6a6f09a",
        "id": "AjLC-NyEHvgo"
      },
      "execution_count": 54,
      "outputs": [
        {
          "output_type": "stream",
          "name": "stdout",
          "text": [
            "Rumus regresi linear = 0.23770541120170532*x1 + 88869.59268362902\n",
            "list error: [5019848539.3649645, 203215805.32992032, 1970918744.8021898, 2857475738.1798077, 2439379477.384742, 199073731.8472061, 4332727414.292851, 783489259.7836573, 766409690.0552592, 15344960.637931922, 141628111.04426658, 587650391.724835, 158919288.32270077, 543669081.9093307, 4060432.573133351]\n",
            "batas atas : 0.23770541120170532 * x1 + 88869.59268362902 + 2 * 39246.56836272714\n",
            "batas bawah: 0.23770541120170532 * x1 + 88869.59268362902 - 2 * 39246.56836272714\n"
          ]
        },
        {
          "output_type": "display_data",
          "data": {
            "text/plain": [
              "<Figure size 432x288 with 1 Axes>"
            ],
            "image/png": "[encoded data removed]"
          },
          "metadata": {
            "needs_background": "light"
          }
        }
      ]
    },
    {
      "cell_type": "code",
      "source": [
        "#perhitungan SSE  \n",
        "\n",
        "sum_err = []\n",
        "\n",
        "for i in range(len(profit)):\n",
        "    delta = profit[i]-model[i]\n",
        "    sum_err.append(delta**2)\n",
        "\n",
        "delta_sum = sum(sum_err)\n",
        "\n",
        "print(\"SSE of profit vs Administration data is {}\".format(delta_sum))"
      ],
      "metadata": {
        "colab": {
          "base_uri": "https://localhost:8080/"
        },
        "outputId": "86183e14-be5c-4d86-c971-4ab2bd592c08",
        "id": "O1nZdF_IHvgo"
      },
      "execution_count": 55,
      "outputs": [
        {
          "output_type": "stream",
          "name": "stdout",
          "text": [
            "SSE of profit vs Administration data is 20023810667.252796\n"
          ]
        }
      ]
    },
    {
      "cell_type": "code",
      "source": [
        "#pencarian SSR data \n",
        "\n",
        "avg = np.mean(profit)\n",
        "ssr_list = [] \n",
        "\n",
        "for i in range(len(profit)):\n",
        "    ssr = profit[i] - avg\n",
        "    ssr_list.append(ssr**2)\n",
        "\n",
        "ssr = sum(ssr_list)\n",
        "print(\"SSR of profit vs Administration data is {}\".format(ssr))"
      ],
      "metadata": {
        "colab": {
          "base_uri": "https://localhost:8080/"
        },
        "outputId": "78ddf9a1-7f0a-4fa7-de1b-3b1d8af7984b",
        "id": "WEtiD-M8Hvgo"
      },
      "execution_count": 56,
      "outputs": [
        {
          "output_type": "stream",
          "name": "stdout",
          "text": [
            "SSR of profit vs Administration data is 20584028570.075768\n"
          ]
        }
      ]
    },
    {
      "cell_type": "code",
      "source": [
        "#performance assessment \n",
        "\n",
        "sst = delta_sum + ssr\n",
        "#print(sst)\n",
        "\n",
        "#model perfomance \n",
        "r_square = 1 - (delta_sum/sst)\n",
        "print(\"percentage of performance for Administration vs profit is {}\".format(r_square*100))"
      ],
      "metadata": {
        "colab": {
          "base_uri": "https://localhost:8080/"
        },
        "outputId": "1ddf8644-edc9-4900-d8f2-2c125d12b261",
        "id": "Ei3yXKk3Hvgo"
      },
      "execution_count": 57,
      "outputs": [
        {
          "output_type": "stream",
          "name": "stdout",
          "text": [
            "percentage of performance for Administration vs profit is 50.68979033770897\n"
          ]
        }
      ]
    },
    {
      "cell_type": "markdown",
      "source": [
        "###Marketing Spend"
      ],
      "metadata": {
        "id": "m4HVQSsfHvgo"
      }
    },
    {
      "cell_type": "code",
      "source": [
        "# Regresi Marketing Spend\n",
        "market = ny['Marketing Spend'].values.tolist() #Memasukkan kolom \"Marketing Spend\" ke dalam list\n",
        "market = np.array(market)                      #Mengubah list tersebut menjadi array\n",
        "\n",
        "plt.figure()\n",
        "plt.xlabel(\"Cost of Marketing\")          #Untuk memberi label pada sumbu X\n",
        "plt.ylabel(\"Profit\")                    #Untuk memberi label pada sumbu Y\n",
        "plt.scatter(market, profit) #Untuk membuat scatter plot cost administrasi dibandingkan profit\n",
        "m, b = np.polyfit(market,profit,1)        #Untuk mendapatkan konstanta garis regresi\n",
        "plt.plot(market, m*market + b, 'r', label=\"linear regression\")         #Plot garis regresi\n",
        "print(\"Rumus regresi linear =\",f'{m}*x1 + {b}')            #Menampilkan konstanta garis regresi\n",
        "\n",
        "#Believeability rate\n",
        "error = []                              #List error\n",
        "model = m*market + b                      #Model garis regresi\n",
        "for i in range(len(model)):             #Mencari list error\n",
        "    diff = profit[i]-model[i]           #Mencari selisih garis regresi dan nilai\n",
        "    diff = diff**2                      #Mencari pangkat selisih\n",
        "    error.append(diff)                  #Menambahkan list error\n",
        " \n",
        "s = math.sqrt(1/(n-2)*sum(error))       #Estimatsi sigma\n",
        "print(\"list error:\", error)\n",
        "\n",
        "print(\"batas atas :\" ,f'{m} * x1 + {b} + 2 * {s}')\n",
        "print(\"batas bawah:\" ,f'{m} * x1 + {b} - 2 * {s}')\n",
        "\n",
        "plt.plot(market, m*market + b + 2*s, 'b', label=\"Upper bound\")   #menampilkan batas atas\n",
        "plt.plot(market, m*market + b - 2*s, 'b', label=\"Lower bound\")   #menampilkan batas bawah\n",
        "plt.plot(market, avg_list, 'y', label=\"Average\") \n",
        "\n",
        "plt.legend(loc=\"upper right\")\n",
        "plt.show()  "
      ],
      "metadata": {
        "colab": {
          "base_uri": "https://localhost:8080/",
          "height": 376
        },
        "outputId": "268871ea-a790-4b49-92cd-6c3a0a430c42",
        "id": "kQauGp8IHvgo"
      },
      "execution_count": 58,
      "outputs": [
        {
          "output_type": "stream",
          "name": "stdout",
          "text": [
            "Rumus regresi linear = 0.2411927460526755*x1 + 62228.92261014016\n",
            "list error: [263802718.84702116, 1798267615.1642513, 52456261.993961535, 5008390.146284768, 1082695.7117383706, 538720935.7198359, 797955083.3128021, 219750450.28942305, 195357653.989477, 154194130.91809717, 20698765.754479665, 167306911.8902549, 234664915.41791925, 659691527.9666957, 25134444.298098546]\n",
            "batas atas : 0.2411927460526755 * x1 + 62228.92261014016 + 2 * 19872.85063640718\n",
            "batas bawah: 0.2411927460526755 * x1 + 62228.92261014016 - 2 * 19872.85063640718\n"
          ]
        },
        {
          "output_type": "display_data",
          "data": {
            "text/plain": [
              "<Figure size 432x288 with 1 Axes>"
            ],
            "image/png": "[encoded data removed]"
          },
          "metadata": {
            "needs_background": "light"
          }
        }
      ]
    },
    {
      "cell_type": "code",
      "source": [
        "#perhitungan SSE  \n",
        "\n",
        "sum_err = []\n",
        "\n",
        "for i in range(len(profit)):\n",
        "    delta = profit[i]-model[i]\n",
        "    sum_err.append(delta**2)\n",
        "\n",
        "delta_sum = sum(sum_err)\n",
        "\n",
        "print(\"SSE of profit vs marketing data is {}\".format(delta_sum))"
      ],
      "metadata": {
        "colab": {
          "base_uri": "https://localhost:8080/"
        },
        "outputId": "f758bdb5-b9eb-40f6-9b26-ec78e01c63e3",
        "id": "zdOP8OJ-Hvgo"
      },
      "execution_count": 59,
      "outputs": [
        {
          "output_type": "stream",
          "name": "stdout",
          "text": [
            "SSE of profit vs marketing data is 5134092501.420341\n"
          ]
        }
      ]
    },
    {
      "cell_type": "code",
      "source": [
        "#pencarian SSR data \n",
        "\n",
        "avg = np.mean(profit)\n",
        "ssr_list = [] \n",
        "\n",
        "for i in range(len(profit)):\n",
        "    ssr = profit[i] - avg\n",
        "    ssr_list.append(ssr**2)\n",
        "\n",
        "ssr = sum(ssr_list)\n",
        "print(\"SSR of profit vs marketing data is {}\".format(ssr))"
      ],
      "metadata": {
        "colab": {
          "base_uri": "https://localhost:8080/"
        },
        "outputId": "76b6780d-5b9c-4798-cdca-d64901196ac4",
        "id": "o2rzgT0pHvgp"
      },
      "execution_count": 60,
      "outputs": [
        {
          "output_type": "stream",
          "name": "stdout",
          "text": [
            "SSR of profit vs marketing data is 20584028570.075768\n"
          ]
        }
      ]
    },
    {
      "cell_type": "code",
      "source": [
        "#performance assessment \n",
        "\n",
        "sst = delta_sum + ssr\n",
        "#print(sst)\n",
        "\n",
        "#model perfomance \n",
        "r_square = 1 - (delta_sum/sst)\n",
        "print(\"percentage of performance for marketing vs profit is {}\".format(r_square*100))"
      ],
      "metadata": {
        "colab": {
          "base_uri": "https://localhost:8080/"
        },
        "outputId": "a886614b-59c9-4b4e-d97c-e718836d6cb2",
        "id": "RfWs-JOsHvgp"
      },
      "execution_count": 61,
      "outputs": [
        {
          "output_type": "stream",
          "name": "stdout",
          "text": [
            "percentage of performance for marketing vs profit is 80.03706224436996\n"
          ]
        }
      ]
    }
  ]
}